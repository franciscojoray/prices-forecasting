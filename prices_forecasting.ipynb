{
  "cells": [
    {
      "cell_type": "markdown",
      "metadata": {
        "colab_type": "text",
        "id": "view-in-github"
      },
      "source": [
        "<a href=\"https://colab.research.google.com/github/federicoweill/pycardano-tutorial/blob/main/pycardano_tutorial.ipynb\" target=\"_parent\"><img src=\"https://colab.research.google.com/assets/colab-badge.svg\" alt=\"Open In Colab\"/></a>"
      ]
    },
    {
      "attachments": {},
      "cell_type": "markdown",
      "metadata": {
        "id": "iDO1KwKeuoN8"
      },
      "source": [
        "## Python Jupyter Notebook for Cardano on Demeter"
      ]
    },
    {
      "cell_type": "code",
      "execution_count": null,
      "metadata": {
        "vscode": {
          "languageId": "shellscript"
        }
      },
      "outputs": [],
      "source": [
        "cd ~/workspace/repo/time_series/"
      ]
    },
    {
      "cell_type": "code",
      "execution_count": null,
      "metadata": {
        "vscode": {
          "languageId": "shellscript"
        }
      },
      "outputs": [],
      "source": [
        "!pip install -r requirement.txt"
      ]
    },
    {
      "cell_type": "code",
      "execution_count": null,
      "metadata": {
        "vscode": {
          "languageId": "shellscript"
        }
      },
      "outputs": [],
      "source": [
        "!pip install matplotlib cbor2 pycardano"
      ]
    },
    {
      "cell_type": "code",
      "execution_count": null,
      "metadata": {
        "vscode": {
          "languageId": "shellscript"
        }
      },
      "outputs": [],
      "source": [
        "\"\"\"Single-script demo to show how to access on on-chain datum.\"\"\"\n",
        "# pylint: disable=W0718, C0206\n",
        "\n",
        "import json\n",
        "import logging\n",
        "import sys\n",
        "from collections import OrderedDict\n",
        "from dataclasses import dataclass\n",
        "from datetime import datetime, timezone\n",
        "from typing import Final\n",
        "\n",
        "import cbor2\n",
        "import numpy\n",
        "import pycardano\n",
        "from pycardano import Address, Network, OgmiosChainContext, UTxO\n",
        "\n",
        "OGMIOS_URL: Final[str] = \"ws://ogmios.preprod.orcfax.io:1337\"\n",
        "\n",
        "# smart contract\n",
        "ADA_USD_ORACLE_ADDR: Final[\n",
        "    str\n",
        "] = \"addr_test1wrtcecfy7np3sduzn99ffuv8qx2sa8v977l0xql8ca7lgkgmktuc0\"\n",
        "\n",
        "auth_addr = Address.from_primitive(\n",
        "    \"addr_test1vrc7lrdcsz08vxuj4278aeyn4g82salal76l54gr6rw4ync86tfse\"\n",
        ")\n",
        "\n",
        "# policy ID for the Auth tokens\n",
        "AUTH_POLICY: Final[str] = \"104d51dd927761bf5d50d32e1ede4b2cff477d475fe32f4f780a4b21\"\n",
        "\n",
        "network = Network.TESTNET\n",
        "context = OgmiosChainContext(ws_url=OGMIOS_URL, network=network)\n",
        "\n",
        "logger = logging.getLogger(__name__)\n",
        "\n",
        "logging.basicConfig(\n",
        "    format=\"%(asctime)-15s %(levelname)s :: %(filename)s:%(lineno)s:%(funcName)s() :: %(message)s\",\n",
        "    datefmt=\"%Y-%m-%dT%H:%M:%SZ\",\n",
        "    level=\"INFO\",\n",
        ")\n",
        "\n",
        "\n",
        "def _decode_number(value_pair: list):\n",
        "    \"\"\"Decode a number value.\"\"\"\n",
        "    significand = numpy.uint64(value_pair[0]).astype(numpy.int64)\n",
        "    base10_component = numpy.uint64(value_pair[1]).astype(numpy.int64)\n",
        "    value = significand * 10 ** numpy.float_(base10_component)\n",
        "    return value\n",
        "\n",
        "\n",
        "def timestamp_to_human(timestamp):\n",
        "    return datetime.utcfromtimestamp(int(timestamp) / 1000).strftime(\n",
        "        \"%Y-%m-%dT%H:%M:%SZ\"\n",
        "    )\n",
        "\n",
        "\n",
        "def decode_utxo(utxo: pycardano.transaction.UTxO):\n",
        "    \"\"\"Split a UTxO into the components that we need to process and\n",
        "    initially return the Orcfax Datum.\"\"\"\n",
        "    oracle_datum = cbor2.loads(utxo.output.datum.cbor)\n",
        "    timestamp = oracle_datum.value[2].value[0]\n",
        "    timestamp_human = timestamp_to_human(timestamp)\n",
        "    logger.info(\"oracle datum timestamp: %s (%s)\", timestamp_human, timestamp)\n",
        "    labels = oracle_datum.value[0][b\"name\"].decode().split(\"|\", 1)\n",
        "    ada_usd = oracle_datum.value[0][b\"value\"][0].value\n",
        "    pretty_log_value(ada_usd, labels[0])\n",
        "    return (timestamp, _decode_number(ada_usd))\n",
        "\n",
        "\n",
        "def pretty_log_value(value_pair: cbor2.CBORTag, label: str):\n",
        "    \"\"\"Return pretty logging information about a value pair.\"\"\"\n",
        "    value = _decode_number(value_pair)\n",
        "    logger.info(\"%s: %s\", label, value)\n",
        "\n",
        "\n",
        "def validate_utxo(utxo: UTxO):\n",
        "    \"\"\"check if the token included in the utxo is the correct one.\"\"\"\n",
        "    valid = False\n",
        "    for item in utxo.output.amount.multi_asset:\n",
        "        if str(item) == AUTH_POLICY:\n",
        "            valid = True\n",
        "            for asset in utxo.output.amount.multi_asset[item]:\n",
        "                amount = utxo.output.amount.multi_asset[item][asset]\n",
        "                logger.info(\"found %d %s\", amount, str(asset))\n",
        "    return valid\n",
        "\n",
        "\n",
        "def get_utxos(oracle_addr: str):\n",
        "    \"\"\"return the Orcfax UTxOs.\"\"\"\n",
        "    oracle_utxos = context.utxos(oracle_addr)\n",
        "    utxos = []\n",
        "    logger.info(\"inspecting '%s' UTxOs\", len(oracle_utxos))\n",
        "    for utxo in oracle_utxos:\n",
        "        if not utxo.output.script and utxo.output.datum and validate_utxo(utxo):\n",
        "            utxos.append(utxo)\n",
        "    return utxos\n",
        "\n",
        "\n",
        "def read_datum():\n",
        "    \"\"\"Get the timestamps and prices from all validated Orcfax UTxOs.\"\"\"\n",
        "    logger.info(\"entering this script... \")\n",
        "    logger.info(\"oracle smart contract: %s\", ADA_USD_ORACLE_ADDR)\n",
        "    utxos = get_utxos(ADA_USD_ORACLE_ADDR)\n",
        "    times_prices = []\n",
        "    if not utxos:\n",
        "        logger.info(\"no oracle data found\")\n",
        "        sys.exit(0)\n",
        "    for utxo in utxos:\n",
        "        (timestamp, ada_usd) = decode_utxo(utxo)\n",
        "        times_prices.append((timestamp, ada_usd))\n",
        "    return times_prices"
      ]
    },
    {
      "cell_type": "code",
      "execution_count": null,
      "metadata": {
        "vscode": {
          "languageId": "shellscript"
        }
      },
      "outputs": [],
      "source": [
        "times_prices = read_datum()\n",
        "times_prices.sort(key=lambda tp: tp[0])"
      ]
    },
    {
      "cell_type": "code",
      "execution_count": null,
      "metadata": {
        "vscode": {
          "languageId": "shellscript"
        }
      },
      "outputs": [],
      "source": [
        "import matplotlib.pyplot as plt\n",
        "for tp in times_prices:\n",
        "    print(\"{0},{1}\".format(timestamp_to_human(tp[0]),tp[1]))\n",
        "\n",
        "plt.plot(*zip(*times_prices))"
      ]
    },
    {
      "cell_type": "code",
      "execution_count": null,
      "metadata": {
        "vscode": {
          "languageId": "shellscript"
        }
      },
      "outputs": [],
      "source": [
        "cd ~/workspace/repo/time_series"
      ]
    },
    {
      "cell_type": "code",
      "execution_count": null,
      "metadata": {
        "vscode": {
          "languageId": "shellscript"
        }
      },
      "outputs": [],
      "source": [
        "# UNCOMMENT TO RUN THE SERVICE\n",
        "# !python3 service.py"
      ]
    },
    {
      "cell_type": "code",
      "execution_count": null,
      "metadata": {
        "vscode": {
          "languageId": "shellscript"
        }
      },
      "outputs": [],
      "source": [
        "# WARNING: UNCOMMENT AND RUN THE CODE BELOW IFF USING PYTHON>=3.10\n",
        "# THIS IS MEANT TO MAKE THE SERVICE COMPATIBLE.\n",
        "# def findReplace(filename, find, replace):\n",
        "#     with open(filename, 'r') as file:\n",
        "#         filedata = file.read()\n",
        "#     filedata = filedata.replace(find, replace)\n",
        "#     with open(filename, 'w') as file:\n",
        "#         file.write(filedata)\n",
        "\n",
        "# findReplace(\"/config/.local/lib/python3.10/site-packages/attrdict/default.py\", \"from collections import\", \"from collections.abc import\")\n",
        "# findReplace(\"/config/.local/lib/python3.10/site-packages/attrdict/mapping.py\", \"from collections import\", \"from collections.abc import\")\n",
        "# findReplace(\"/config/.local/lib/python3.10/site-packages/attrdict/merge.py\", \"from collections import\", \"from collections.abc import\")\n",
        "# findReplace(\"/config/.local/lib/python3.10/site-packages/attrdict/mixins.py\", \"from collections import\", \"from collections.abc import\")\n",
        "# findReplace(\"/config/.local/lib/python3.10/site-packages/eth_account/account.py\", \"from collections import\", \"from collections.abc import\")\n",
        "# findReplace(\"/config/.local/lib/python3.10/site-packages/rlp/codec.py\", \"import collections\\n\", \"import collections.abc as collections\\n\")\n",
        "# findReplace(\"/config/.local/lib/python3.10/site-packages/rlp/lazy.py\", \"from collections import\", \"from collections.abc import\")\n",
        "# findReplace(\"/config/.local/lib/python3.10/site-packages/rlp/sedes/lists.py\", \"from collections import\", \"from collections.abc import\")\n",
        "# findReplace(\"/config/.local/lib/python3.10/site-packages/rlp/sedes/raw.py\", \"from collections import\", \"from collections.abc import\")\n",
        "# findReplace(\"/config/.local/lib/python3.10/site-packages/rlp/sedes/serializable.py\", \"import collections\\n\", \"import collections\\nimport collections.abc\\n\")\n",
        "# findReplace(\"/config/.local/lib/python3.10/site-packages/rlp/sedes/serializable.py\", \"collections.Sequence\", \"collections.abc.Sequence\")\n",
        "# findReplace(\"/config/.local/lib/python3.10/site-packages/web3/datastructures.py\", \"from collections import (\\n    Hashable,\\n    Mapping,\\n    MutableMapping,\\n    OrderedDict,\\n    Sequence,\\n)\", \"from collections.abc import (\\n    Hashable,\\n    Mapping,\\n    MutableMapping,\\n    Sequence,\\n)\\nfrom collections import OrderedDict\")\n",
        "# findReplace(\"/config/.local/lib/python3.10/site-packages/web3/utils/six/six.py\", \"import collections\\n\", \"import collections.abc as collections\\n\")\n",
        "# findReplace(\"/config/.local/lib/python3.10/site-packages/web3/utils/formatters.py\", \"from collections import\", \"from collections.abc import\")"
      ]
    }
  ],
  "metadata": {
    "colab": {
      "authorship_tag": "ABX9TyNNt4H+ASgfmmet3E6OWdwa",
      "include_colab_link": true,
      "provenance": []
    },
    "kernelspec": {
      "display_name": "Python 3",
      "language": "python",
      "name": "python3"
    },
    "language_info": {
      "codemirror_mode": {
        "name": "ipython",
        "version": 3
      },
      "file_extension": ".py",
      "mimetype": "text/x-python",
      "name": "python",
      "nbconvert_exporter": "python",
      "pygments_lexer": "ipython3",
      "version": "3.11.6"
    }
  },
  "nbformat": 4,
  "nbformat_minor": 0
}
