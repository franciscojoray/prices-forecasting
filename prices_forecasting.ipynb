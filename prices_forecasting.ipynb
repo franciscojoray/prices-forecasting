{
  "cells": [
    {
      "cell_type": "markdown",
      "metadata": {
        "colab_type": "text",
        "id": "view-in-github"
      },
      "source": [
        "<a href=\"https://colab.research.google.com/github/federicoweill/pycardano-tutorial/blob/main/pycardano_tutorial.ipynb\" target=\"_parent\"><img src=\"https://colab.research.google.com/assets/colab-badge.svg\" alt=\"Open In Colab\"/></a>"
      ]
    },
    {
      "attachments": {},
      "cell_type": "markdown",
      "metadata": {
        "id": "iDO1KwKeuoN8"
      },
      "source": [
        "## Python Jupyter Notebook for Cardano on Demeter"
      ]
    },
    {
      "cell_type": "code",
      "execution_count": 1,
      "metadata": {
        "vscode": {
          "languageId": "shellscript"
        }
      },
      "outputs": [],
      "source": [
        "import matplotlib.pyplot as plt"
      ]
    },
    {
      "cell_type": "code",
      "execution_count": 2,
      "metadata": {
        "vscode": {
          "languageId": "shellscript"
        }
      },
      "outputs": [],
      "source": [
        "\"\"\"Single-script demo to show how to access on on-chain datum.\"\"\"\n",
        "# pylint: disable=W0718, C0206\n",
        "\n",
        "import json\n",
        "import logging\n",
        "import sys\n",
        "from collections import OrderedDict\n",
        "from dataclasses import dataclass\n",
        "from datetime import datetime, timezone\n",
        "from typing import Final\n",
        "\n",
        "import cbor2\n",
        "import numpy\n",
        "import pycardano\n",
        "from pycardano import Address, Network, OgmiosChainContext, UTxO\n",
        "\n",
        "OGMIOS_URL: Final[str] = \"ws://ogmios.preprod.orcfax.io:1337\"\n",
        "\n",
        "# smart contract\n",
        "ADA_USD_ORACLE_ADDR: Final[\n",
        "    str\n",
        "] = \"addr_test1wrtcecfy7np3sduzn99ffuv8qx2sa8v977l0xql8ca7lgkgmktuc0\"\n",
        "\n",
        "auth_addr = Address.from_primitive(\n",
        "    \"addr_test1vrc7lrdcsz08vxuj4278aeyn4g82salal76l54gr6rw4ync86tfse\"\n",
        ")\n",
        "\n",
        "# policy ID for the Auth tokens\n",
        "AUTH_POLICY: Final[str] = \"104d51dd927761bf5d50d32e1ede4b2cff477d475fe32f4f780a4b21\"\n",
        "\n",
        "network = Network.TESTNET\n",
        "context = OgmiosChainContext(ws_url=OGMIOS_URL, network=network)\n",
        "\n",
        "logger = logging.getLogger(__name__)\n",
        "\n",
        "logging.basicConfig(\n",
        "    format=\"%(asctime)-15s %(levelname)s :: %(filename)s:%(lineno)s:%(funcName)s() :: %(message)s\",\n",
        "    datefmt=\"%Y-%m-%dT%H:%M:%SZ\",\n",
        "    level=\"INFO\",\n",
        ")\n",
        "\n",
        "\n",
        "def _decode_number(value_pair: list):\n",
        "    \"\"\"Decode a number value.\"\"\"\n",
        "    significand = numpy.uint64(value_pair[0]).astype(numpy.int64)\n",
        "    base10_component = numpy.uint64(value_pair[1]).astype(numpy.int64)\n",
        "    value = significand * 10 ** numpy.float_(base10_component)\n",
        "    return value\n",
        "\n",
        "\n",
        "def timestamp_to_human(timestamp):\n",
        "    return datetime.utcfromtimestamp(int(timestamp) / 1000).strftime(\n",
        "        \"%Y-%m-%dT%H:%M:%SZ\"\n",
        "    )\n",
        "\n",
        "\n",
        "def decode_utxo(utxo: pycardano.transaction.UTxO):\n",
        "    \"\"\"Split a UTxO into the components that we need to process and\n",
        "    initially return the Orcfax Datum.\"\"\"\n",
        "    oracle_datum = cbor2.loads(utxo.output.datum.cbor)\n",
        "    timestamp = oracle_datum.value[2].value[0]\n",
        "    timestamp_human = timestamp_to_human(timestamp)\n",
        "    logger.info(\"oracle datum timestamp: %s (%s)\", timestamp_human, timestamp)\n",
        "    labels = oracle_datum.value[0][b\"name\"].decode().split(\"|\", 1)\n",
        "    ada_usd = oracle_datum.value[0][b\"value\"][0].value\n",
        "    pretty_log_value(ada_usd, labels[0])\n",
        "    return (timestamp, _decode_number(ada_usd))\n",
        "\n",
        "\n",
        "def pretty_log_value(value_pair: cbor2.CBORTag, label: str):\n",
        "    \"\"\"Return pretty logging information about a value pair.\"\"\"\n",
        "    value = _decode_number(value_pair)\n",
        "    logger.info(\"%s: %s\", label, value)\n",
        "\n",
        "\n",
        "def validate_utxo(utxo: UTxO):\n",
        "    \"\"\"check if the token included in the utxo is the correct one.\"\"\"\n",
        "    valid = False\n",
        "    for item in utxo.output.amount.multi_asset:\n",
        "        if str(item) == AUTH_POLICY:\n",
        "            valid = True\n",
        "            for asset in utxo.output.amount.multi_asset[item]:\n",
        "                amount = utxo.output.amount.multi_asset[item][asset]\n",
        "                logger.info(\"found %d %s\", amount, str(asset))\n",
        "    return valid\n",
        "\n",
        "\n",
        "def get_utxos(oracle_addr: str):\n",
        "    \"\"\"return the Orcfax UTxOs.\"\"\"\n",
        "    oracle_utxos = context.utxos(oracle_addr)\n",
        "    utxos = []\n",
        "    logger.info(\"inspecting '%s' UTxOs\", len(oracle_utxos))\n",
        "    for utxo in oracle_utxos:\n",
        "        if not utxo.output.script and utxo.output.datum and validate_utxo(utxo):\n",
        "            utxos.append(utxo)\n",
        "    return utxos\n",
        "\n",
        "\n",
        "def read_datum():\n",
        "    \"\"\"Get the timestamps and prices from all validated Orcfax UTxOs.\"\"\"\n",
        "    logger.info(\"entering this script... \")\n",
        "    logger.info(\"oracle smart contract: %s\", ADA_USD_ORACLE_ADDR)\n",
        "    utxos = get_utxos(ADA_USD_ORACLE_ADDR)\n",
        "    times_prices = []\n",
        "    if not utxos:\n",
        "        logger.info(\"no oracle data found\")\n",
        "        sys.exit(0)\n",
        "    for utxo in utxos:\n",
        "        (timestamp, ada_usd) = decode_utxo(utxo)\n",
        "        times_prices.append((timestamp, ada_usd))\n",
        "    return times_prices"
      ]
    },
    {
      "cell_type": "code",
      "execution_count": 3,
      "metadata": {
        "vscode": {
          "languageId": "shellscript"
        }
      },
      "outputs": [
        {
          "name": "stderr",
          "output_type": "stream",
          "text": [
            "2024-01-02T01:53:59Z INFO :: 1906248053.py:101:read_datum() :: entering this script... \n",
            "2024-01-02T01:53:59Z INFO :: 1906248053.py:102:read_datum() :: oracle smart contract: addr_test1wrtcecfy7np3sduzn99ffuv8qx2sa8v977l0xql8ca7lgkgmktuc0\n",
            "2024-01-02T01:54:02Z INFO :: 1906248053.py:92:get_utxos() :: inspecting '870' UTxOs\n",
            "2024-01-02T01:54:02Z INFO :: 1906248053.py:84:validate_utxo() :: found 1 7741b5c48697c78363e89d48f22760b9d578bb797097211e424bb955e33f679c\n",
            "2024-01-02T01:54:02Z INFO :: 1906248053.py:84:validate_utxo() :: found 1 6e119fba0a07dd329c384bc82d35538ad30b051e96f1b0feaa79d68ddd548a78\n",
            "2024-01-02T01:54:02Z INFO :: 1906248053.py:84:validate_utxo() :: found 1 ad445385b1696e5b76e039e1fae22e9a6508837698e4d7a3617bca67885a5890\n",
            "2024-01-02T01:54:02Z INFO :: 1906248053.py:84:validate_utxo() :: found 1 4f7eb0b987aec99952be0ef9b21066ab76bc554eea9a3fd2bc31852eebfa58c2\n",
            "2024-01-02T01:54:02Z INFO :: 1906248053.py:84:validate_utxo() :: found 1 304d7f07fbc7b6d0d81bf0869c081c20a8b8cef44bea1ba6430c0bc59a363ced\n",
            "2024-01-02T01:54:02Z INFO :: 1906248053.py:84:validate_utxo() :: found 1 34af2465e5add37e89423cbc9bf23242b78e15220b24cb540c54262bcfb68185\n",
            "2024-01-02T01:54:02Z INFO :: 1906248053.py:84:validate_utxo() :: found 1 602b3ad11110aa65d2f46ed7e29e4f92caa61cc971ef1f44dca1376601b19ef7\n",
            "2024-01-02T01:54:02Z INFO :: 1906248053.py:84:validate_utxo() :: found 1 d48b9475926a753874f670c1fa96f70e7d70dcac3a36fceebe7345eb75a694f1\n",
            "2024-01-02T01:54:02Z INFO :: 1906248053.py:84:validate_utxo() :: found 1 7622a08a591ab9b169ef29dc296c3528055d8f113d5e6d4cb2c9cfe3a7142569\n",
            "2024-01-02T01:54:02Z INFO :: 1906248053.py:84:validate_utxo() :: found 1 6368e82c969a43a74b2a47982ba19622f5551e54161905d4079723eeb69d0278\n",
            "2024-01-02T01:54:02Z INFO :: 1906248053.py:84:validate_utxo() :: found 1 e472e58a70ab88aeffaa28715e931721d07483c7f283674e1014150ae4f580b7\n",
            "2024-01-02T01:54:02Z INFO :: 1906248053.py:84:validate_utxo() :: found 1 8383b220c9583fac2e1060b935535a78b1cba739465aaf3084f612e25627abac\n",
            "2024-01-02T01:54:02Z INFO :: 1906248053.py:84:validate_utxo() :: found 1 4b6f69f095704ff093f73ded15290543e1ee0613312b8a23682cf31dfe42f92c\n",
            "2024-01-02T01:54:02Z INFO :: 1906248053.py:84:validate_utxo() :: found 1 e59310c672c3e181c66cfc3d8a560312fd8348e6b0d53cdfa024a0ae833d895f\n",
            "2024-01-02T01:54:02Z INFO :: 1906248053.py:84:validate_utxo() :: found 1 2f4bacdbeaa4da29e557b5234678368c3b29b8a50f4adc536b828e880323a6af\n",
            "2024-01-02T01:54:02Z INFO :: 1906248053.py:84:validate_utxo() :: found 1 5b1da0428bd10fc6b00dfd9781ff1e8f6a12041ad3ea00050f3cd8d51d6f4761\n",
            "2024-01-02T01:54:02Z INFO :: 1906248053.py:84:validate_utxo() :: found 1 030ca036e2ad70a1cac859ed3cbef4ff2e665b0915f4e367ee90ff3aec6f1704\n",
            "2024-01-02T01:54:02Z INFO :: 1906248053.py:84:validate_utxo() :: found 1 c96e6e4042c7c6aad84c3d37526b7d11b9f795c4c72be83ebdf89d47787ba1e1\n",
            "2024-01-02T01:54:02Z INFO :: 1906248053.py:84:validate_utxo() :: found 1 b026413bc36b54419180a419028282f8d486023b8840e92477f3af56d0c62ff2\n",
            "2024-01-02T01:54:02Z INFO :: 1906248053.py:84:validate_utxo() :: found 1 301f463999b94e07d453148d0cf9c296b4cba6266e898701b1a1438aa8b89eb6\n",
            "2024-01-02T01:54:02Z INFO :: 1906248053.py:84:validate_utxo() :: found 1 3ee6057ff4f18dc7a514317ad97031805215c412905c079f2a1c6fa69e9e26a5\n",
            "2024-01-02T01:54:02Z INFO :: 1906248053.py:84:validate_utxo() :: found 1 65ad3da6c4e2933dad1af71da4ce37ffb7bdb73f3007b46fe597e363e2245c20\n",
            "2024-01-02T01:54:02Z INFO :: 1906248053.py:84:validate_utxo() :: found 1 ea7abcb49b40ffe904a142d0c8136b9446ba2174647c8207c7559ef2c0693d5a\n",
            "2024-01-02T01:54:02Z INFO :: 1906248053.py:63:decode_utxo() :: oracle datum timestamp: 2024-01-01T12:02:24Z (1704110544998)\n",
            "2024-01-02T01:54:02Z INFO :: 1906248053.py:73:pretty_log_value() :: ADA-USD: 0.6024737466\n",
            "2024-01-02T01:54:02Z INFO :: 1906248053.py:63:decode_utxo() :: oracle datum timestamp: 2024-01-01T15:02:03Z (1704121323521)\n",
            "2024-01-02T01:54:02Z INFO :: 1906248053.py:73:pretty_log_value() :: ADA-USD: 0.6037323672\n",
            "2024-01-02T01:54:02Z INFO :: 1906248053.py:63:decode_utxo() :: oracle datum timestamp: 2024-01-02T00:02:28Z (1704153748695)\n",
            "2024-01-02T01:54:02Z INFO :: 1906248053.py:73:pretty_log_value() :: ADA-USD: 0.6192000000000001\n",
            "2024-01-02T01:54:02Z INFO :: 1906248053.py:63:decode_utxo() :: oracle datum timestamp: 2024-01-02T01:02:01Z (1704157321649)\n",
            "2024-01-02T01:54:02Z INFO :: 1906248053.py:73:pretty_log_value() :: ADA-USD: 0.6231500000000001\n",
            "2024-01-02T01:54:02Z INFO :: 1906248053.py:63:decode_utxo() :: oracle datum timestamp: 2024-01-01T23:02:26Z (1704150146215)\n",
            "2024-01-02T01:54:02Z INFO :: 1906248053.py:73:pretty_log_value() :: ADA-USD: 0.617059\n",
            "2024-01-02T01:54:02Z INFO :: 1906248053.py:63:decode_utxo() :: oracle datum timestamp: 2024-01-01T19:02:14Z (1704135734625)\n",
            "2024-01-02T01:54:02Z INFO :: 1906248053.py:73:pretty_log_value() :: ADA-USD: 0.6059\n",
            "2024-01-02T01:54:02Z INFO :: 1906248053.py:63:decode_utxo() :: oracle datum timestamp: 2024-01-01T08:02:13Z (1704096133870)\n",
            "2024-01-02T01:54:02Z INFO :: 1906248053.py:73:pretty_log_value() :: ADA-USD: 0.597667\n",
            "2024-01-02T01:54:02Z INFO :: 1906248053.py:63:decode_utxo() :: oracle datum timestamp: 2024-01-01T19:30:38Z (1704137438918)\n",
            "2024-01-02T01:54:02Z INFO :: 1906248053.py:73:pretty_log_value() :: ADA-USD: 0.612\n",
            "2024-01-02T01:54:02Z INFO :: 1906248053.py:63:decode_utxo() :: oracle datum timestamp: 2024-01-01T11:02:22Z (1704106942351)\n",
            "2024-01-02T01:54:02Z INFO :: 1906248053.py:73:pretty_log_value() :: ADA-USD: 0.6012000000000001\n",
            "2024-01-02T01:54:02Z INFO :: 1906248053.py:63:decode_utxo() :: oracle datum timestamp: 2024-01-02T01:25:35Z (1704158735416)\n",
            "2024-01-02T01:54:02Z INFO :: 1906248053.py:73:pretty_log_value() :: ADA-USD: 0.6289159999999999\n",
            "2024-01-02T01:54:02Z INFO :: 1906248053.py:63:decode_utxo() :: oracle datum timestamp: 2024-01-01T14:02:00Z (1704117720575)\n",
            "2024-01-02T01:54:02Z INFO :: 1906248053.py:73:pretty_log_value() :: ADA-USD: 0.6057\n",
            "2024-01-02T01:54:02Z INFO :: 1906248053.py:63:decode_utxo() :: oracle datum timestamp: 2024-01-01T09:02:16Z (1704099736649)\n",
            "2024-01-02T01:54:02Z INFO :: 1906248053.py:73:pretty_log_value() :: ADA-USD: 0.5991000000000001\n",
            "2024-01-02T01:54:02Z INFO :: 1906248053.py:63:decode_utxo() :: oracle datum timestamp: 2024-01-02T02:16:46Z (1704161806302)\n",
            "2024-01-02T01:54:02Z INFO :: 1906248053.py:73:pretty_log_value() :: ADA-USD: 0.6297969999999999\n",
            "2024-01-02T01:54:02Z INFO :: 1906248053.py:63:decode_utxo() :: oracle datum timestamp: 2024-01-01T20:02:17Z (1704139337418)\n",
            "2024-01-02T01:54:02Z INFO :: 1906248053.py:73:pretty_log_value() :: ADA-USD: 0.610001\n",
            "2024-01-02T01:54:02Z INFO :: 1906248053.py:63:decode_utxo() :: oracle datum timestamp: 2024-01-01T22:02:23Z (1704146543043)\n",
            "2024-01-02T01:54:02Z INFO :: 1906248053.py:73:pretty_log_value() :: ADA-USD: 0.61885\n",
            "2024-01-02T01:54:02Z INFO :: 1906248053.py:63:decode_utxo() :: oracle datum timestamp: 2024-01-01T18:02:11Z (1704132131970)\n",
            "2024-01-02T01:54:02Z INFO :: 1906248053.py:73:pretty_log_value() :: ADA-USD: 0.6030733013\n",
            "2024-01-02T01:54:02Z INFO :: 1906248053.py:63:decode_utxo() :: oracle datum timestamp: 2024-01-02T02:02:04Z (1704160924105)\n",
            "2024-01-02T01:54:02Z INFO :: 1906248053.py:73:pretty_log_value() :: ADA-USD: 0.634149\n",
            "2024-01-02T01:54:02Z INFO :: 1906248053.py:63:decode_utxo() :: oracle datum timestamp: 2024-01-01T16:02:06Z (1704124926302)\n",
            "2024-01-02T01:54:02Z INFO :: 1906248053.py:73:pretty_log_value() :: ADA-USD: 0.601538\n",
            "2024-01-02T01:54:02Z INFO :: 1906248053.py:63:decode_utxo() :: oracle datum timestamp: 2024-01-01T21:02:20Z (1704142940157)\n",
            "2024-01-02T01:54:02Z INFO :: 1906248053.py:73:pretty_log_value() :: ADA-USD: 0.61875\n",
            "2024-01-02T01:54:02Z INFO :: 1906248053.py:63:decode_utxo() :: oracle datum timestamp: 2024-01-01T13:02:27Z (1704114147861)\n",
            "2024-01-02T01:54:02Z INFO :: 1906248053.py:73:pretty_log_value() :: ADA-USD: 0.6030139999999999\n",
            "2024-01-02T01:54:02Z INFO :: 1906248053.py:63:decode_utxo() :: oracle datum timestamp: 2024-01-01T20:47:54Z (1704142074125)\n",
            "2024-01-02T01:54:02Z INFO :: 1906248053.py:73:pretty_log_value() :: ADA-USD: 0.6163428474\n",
            "2024-01-02T01:54:02Z INFO :: 1906248053.py:63:decode_utxo() :: oracle datum timestamp: 2024-01-01T17:02:09Z (1704128529031)\n",
            "2024-01-02T01:54:02Z INFO :: 1906248053.py:73:pretty_log_value() :: ADA-USD: 0.606\n",
            "2024-01-02T01:54:02Z INFO :: 1906248053.py:63:decode_utxo() :: oracle datum timestamp: 2024-01-01T10:02:19Z (1704103339459)\n",
            "2024-01-02T01:54:02Z INFO :: 1906248053.py:73:pretty_log_value() :: ADA-USD: 0.599339\n"
          ]
        }
      ],
      "source": [
        "times_prices = read_datum()\n",
        "times_prices.sort(key=lambda tp: tp[0])"
      ]
    },
    {
      "cell_type": "code",
      "execution_count": 4,
      "metadata": {
        "vscode": {
          "languageId": "shellscript"
        }
      },
      "outputs": [
        {
          "name": "stdout",
          "output_type": "stream",
          "text": [
            "2024-01-01T08:02:13Z,0.597667\n",
            "2024-01-01T09:02:16Z,0.5991000000000001\n",
            "2024-01-01T10:02:19Z,0.599339\n",
            "2024-01-01T11:02:22Z,0.6012000000000001\n",
            "2024-01-01T12:02:24Z,0.6024737466\n",
            "2024-01-01T13:02:27Z,0.6030139999999999\n",
            "2024-01-01T14:02:00Z,0.6057\n",
            "2024-01-01T15:02:03Z,0.6037323672\n",
            "2024-01-01T16:02:06Z,0.601538\n",
            "2024-01-01T17:02:09Z,0.606\n",
            "2024-01-01T18:02:11Z,0.6030733013\n",
            "2024-01-01T19:02:14Z,0.6059\n",
            "2024-01-01T19:30:38Z,0.612\n",
            "2024-01-01T20:02:17Z,0.610001\n",
            "2024-01-01T20:47:54Z,0.6163428474\n",
            "2024-01-01T21:02:20Z,0.61875\n",
            "2024-01-01T22:02:23Z,0.61885\n",
            "2024-01-01T23:02:26Z,0.617059\n",
            "2024-01-02T00:02:28Z,0.6192000000000001\n",
            "2024-01-02T01:02:01Z,0.6231500000000001\n",
            "2024-01-02T01:25:35Z,0.6289159999999999\n",
            "2024-01-02T02:02:04Z,0.634149\n",
            "2024-01-02T02:16:46Z,0.6297969999999999\n"
          ]
        },
        {
          "data": {
            "text/plain": [
              "[<matplotlib.lines.Line2D at 0x7f4e2afd3c40>]"
            ]
          },
          "execution_count": 4,
          "metadata": {},
          "output_type": "execute_result"
        },
        {
          "data": {
            "image/png": "[encoded data removed]",
            "text/plain": [
              "<Figure size 640x480 with 1 Axes>"
            ]
          },
          "metadata": {},
          "output_type": "display_data"
        }
      ],
      "source": [
        "for tp in times_prices:\n",
        "    print(\"{0},{1}\".format(timestamp_to_human(tp[0]),tp[1]))\n",
        "\n",
        "plt.plot(*zip(*times_prices))"
      ]
    },
    {
      "cell_type": "code",
      "execution_count": 6,
      "metadata": {
        "vscode": {
          "languageId": "shellscript"
        }
      },
      "outputs": [
        {
          "name": "stdout",
          "output_type": "stream",
          "text": [
            "/config/workspace/repo/timeSeries/cntk-lstm-forecast-boilerplate\n"
          ]
        }
      ],
      "source": [
        "cd ~/workspace/repo/timeSeries/cntk-lstm-forecast-boilerplate"
      ]
    },
    {
      "cell_type": "code",
      "execution_count": 22,
      "metadata": {
        "vscode": {
          "languageId": "shellscript"
        }
      },
      "outputs": [
        {
          "name": "stdout",
          "output_type": "stream",
          "text": [
            "Defaulting to user installation because normal site-packages is not writeable\n",
            "Collecting snet.sdk\n",
            "  Using cached snet.sdk-3.0.1-py3-none-any.whl (168 kB)\n",
            "Collecting snet-cli\n",
            "  Using cached snet_cli-2.0.8-py3-none-any.whl (233 kB)\n",
            "Collecting snet.snet-cli\n",
            "  Using cached snet.snet_cli-2.0.8-py3-none-any.whl (233 kB)\n",
            "Collecting ipfsapi==0.4.2.post1\n",
            "  Using cached ipfsapi-0.4.2.post1-py2.py3-none-any.whl (41 kB)\n",
            "Collecting pyyaml==4.2b1\n",
            "  Using cached PyYAML-4.2b1-cp310-cp310-linux_x86_64.whl\n",
            "Collecting pycoin==0.80\n",
            "  Using cached pycoin-0.80-py3-none-any.whl\n",
            "Collecting ledgerblue==0.1.27\n",
            "  Using cached ledgerblue-0.1.27-py3-none-any.whl\n",
            "Collecting argcomplete==1.9.4\n",
            "  Using cached argcomplete-1.9.4-py2.py3-none-any.whl (36 kB)\n",
            "Collecting grpcio-health-checking==1.19.0\n",
            "  Using cached grpcio_health_checking-1.19.0-py3-none-any.whl\n",
            "Collecting grpcio-tools==1.19.0\n",
            "  Using cached grpcio_tools-1.19.0-cp310-cp310-linux_x86_64.whl\n",
            "Collecting web3==4.8.3\n",
            "  Using cached web3-4.8.3-py3-none-any.whl (124 kB)\n",
            "Collecting mnemonic==0.18\n",
            "  Using cached mnemonic-0.18-py3-none-any.whl\n",
            "Collecting pymultihash==0.8.2\n",
            "  Using cached pymultihash-0.8.2-py3-none-any.whl (13 kB)\n",
            "Collecting base58==1.0.2\n",
            "  Using cached base58-1.0.2-py3-none-any.whl (3.3 kB)\n",
            "Collecting jsonschema==3.2.0\n",
            "  Using cached jsonschema-3.2.0-py2.py3-none-any.whl (56 kB)\n",
            "Collecting jsonrpcclient==2.5.2\n",
            "  Using cached jsonrpcclient-2.5.2-py3-none-any.whl\n",
            "Collecting trezor==0.9.1\n",
            "  Using cached trezor-0.9.1-py3-none-any.whl\n",
            "Collecting rlp==1.0.1\n",
            "  Using cached rlp-1.0.1-py2.py3-none-any.whl (18 kB)\n",
            "Collecting rfc3986==1.1.0\n",
            "  Using cached rfc3986-1.1.0-py2.py3-none-any.whl (29 kB)\n",
            "Collecting protobuf>=3.6.0\n",
            "  Using cached protobuf-4.25.1-cp37-abi3-manylinux2014_x86_64.whl (294 kB)\n",
            "Collecting grpcio>=1.19.0\n",
            "  Using cached grpcio-1.60.0-cp310-cp310-manylinux_2_17_x86_64.manylinux2014_x86_64.whl (5.4 MB)\n",
            "Requirement already satisfied: six in /usr/lib/python3/dist-packages (from ipfsapi==0.4.2.post1->snet-cli->-r requirement.txt (line 2)) (1.16.0)\n",
            "Collecting requests>=2.2.1\n",
            "  Using cached requests-2.31.0-py3-none-any.whl (62 kB)\n",
            "Collecting future\n",
            "  Using cached future-0.18.3-py3-none-any.whl\n",
            "Requirement already satisfied: setuptools in /usr/lib/python3/dist-packages (from jsonschema==3.2.0->snet-cli->-r requirement.txt (line 2)) (59.6.0)\n",
            "Requirement already satisfied: pyrsistent>=0.14.0 in /usr/local/lib/python3.10/dist-packages (from jsonschema==3.2.0->snet-cli->-r requirement.txt (line 2)) (0.19.3)\n",
            "Requirement already satisfied: attrs>=17.4.0 in /usr/local/lib/python3.10/dist-packages (from jsonschema==3.2.0->snet-cli->-r requirement.txt (line 2)) (23.1.0)\n",
            "Collecting ecpy>=0.9.0\n",
            "  Using cached ECPy-1.2.5-py3-none-any.whl (43 kB)\n",
            "Requirement already satisfied: websocket-client>=0.56.0 in /usr/local/lib/python3.10/dist-packages (from ledgerblue==0.1.27->snet-cli->-r requirement.txt (line 2)) (1.5.1)\n",
            "Collecting pillow>=3.4.0\n",
            "  Using cached Pillow-10.1.0-cp310-cp310-manylinux_2_28_x86_64.whl (3.6 MB)\n",
            "Collecting hidapi>=0.7.99\n",
            "  Using cached hidapi-0.14.0-cp310-cp310-manylinux_2_17_x86_64.manylinux2014_x86_64.whl (907 kB)\n",
            "Collecting pycryptodomex>=3.6.1\n",
            "  Using cached pycryptodomex-3.19.1-cp35-abi3-manylinux_2_17_x86_64.manylinux2014_x86_64.whl (2.1 MB)\n",
            "Collecting python-u2flib-host>=3.0.2\n",
            "  Using cached python_u2flib_host-3.0.3-py3-none-any.whl\n",
            "Collecting pbkdf2\n",
            "  Using cached pbkdf2-1.3-py3-none-any.whl\n",
            "Collecting eth-utils<2,>=1.0.2\n",
            "  Using cached eth_utils-1.10.0-py3-none-any.whl (24 kB)\n",
            "Collecting click>=6.2\n",
            "  Using cached click-8.1.7-py3-none-any.whl (97 kB)\n",
            "Collecting pyblake2>=0.9.3\n",
            "  Using cached pyblake2-1.1.2-cp310-cp310-linux_x86_64.whl\n",
            "Collecting ecdsa>=0.9\n",
            "  Using cached ecdsa-0.18.0-py2.py3-none-any.whl (142 kB)\n",
            "Collecting libusb1>=1.6.4\n",
            "  Using cached libusb1-3.1.0-py3-none-any.whl (62 kB)\n",
            "Collecting websockets<7.0.0,>=6.0.0\n",
            "  Using cached websockets-6.0-cp310-cp310-linux_x86_64.whl\n",
            "Collecting hexbytes<1.0.0,>=0.1.0\n",
            "  Using cached hexbytes-0.3.1-py3-none-any.whl (5.9 kB)\n",
            "Collecting lru-dict<2.0.0,>=1.1.6\n",
            "  Using cached lru_dict-1.3.0-cp310-cp310-manylinux_2_5_x86_64.manylinux1_x86_64.manylinux_2_17_x86_64.manylinux2014_x86_64.whl (30 kB)\n",
            "Collecting eth-abi<2.0.0,>=1.2.0\n",
            "  Using cached eth_abi-1.3.0-py3-none-any.whl (21 kB)\n",
            "Collecting cytoolz<1.0.0,>=0.9.0\n",
            "  Using cached cytoolz-0.12.2-cp310-cp310-manylinux_2_17_x86_64.manylinux2014_x86_64.whl (1.9 MB)\n",
            "Collecting eth-hash[pycryptodome]<1.0.0,>=0.2.0\n",
            "  Using cached eth_hash-0.5.2-py3-none-any.whl (8.6 kB)\n",
            "Collecting eth-account<0.4.0,>=0.2.1\n",
            "  Using cached eth_account-0.3.0-py3-none-any.whl (18 kB)\n",
            "Collecting toolz>=0.8.0\n",
            "  Using cached toolz-0.12.0-py3-none-any.whl (55 kB)\n",
            "Collecting parsimonious<0.9.0,>=0.8.0\n",
            "  Using cached parsimonious-0.8.1-py3-none-any.whl\n",
            "Collecting eth-typing<3.0.0,>=2.0.0\n",
            "  Using cached eth_typing-2.3.0-py3-none-any.whl (6.2 kB)\n",
            "Collecting attrdict<3,>=2.0.0\n",
            "  Using cached attrdict-2.0.1-py2.py3-none-any.whl (9.9 kB)\n",
            "Collecting eth-keyfile<0.6.0,>=0.5.0\n",
            "  Using cached eth_keyfile-0.5.1-py3-none-any.whl (8.3 kB)\n",
            "Collecting eth-keys<0.3.0,>=0.2.0b3\n",
            "  Using cached eth_keys-0.2.4-py3-none-any.whl (24 kB)\n",
            "Collecting eth-rlp<1,>=0.1.2\n",
            "  Using cached eth_rlp-0.3.0-py3-none-any.whl (5.0 kB)\n",
            "Collecting pycryptodome<4,>=3.6.6\n",
            "  Using cached pycryptodome-3.19.1-cp35-abi3-manylinux_2_17_x86_64.manylinux2014_x86_64.whl (2.1 MB)\n",
            "Collecting eth-utils<2,>=1.0.2\n",
            "  Using cached eth_utils-1.9.5-py3-none-any.whl (23 kB)\n",
            "Collecting certifi>=2017.4.17\n",
            "  Using cached certifi-2023.11.17-py3-none-any.whl (162 kB)\n",
            "Requirement already satisfied: idna<4,>=2.5 in /usr/local/lib/python3.10/dist-packages (from requests>=2.2.1->ipfsapi==0.4.2.post1->snet-cli->-r requirement.txt (line 2)) (3.4)\n",
            "Collecting charset-normalizer<4,>=2\n",
            "  Using cached charset_normalizer-3.3.2-cp310-cp310-manylinux_2_17_x86_64.manylinux2014_x86_64.whl (142 kB)\n",
            "Collecting urllib3<3,>=1.21.1\n",
            "  Using cached urllib3-2.1.0-py3-none-any.whl (104 kB)\n",
            "Collecting eth-rlp<1,>=0.1.2\n",
            "  Using cached eth_rlp-0.2.1-py3-none-any.whl (5.0 kB)\n",
            "Installing collected packages: rfc3986, pymultihash, pycoin, pyblake2, pbkdf2, libusb1, ecpy, base58, argcomplete, websockets, urllib3, toolz, pyyaml, pycryptodomex, pycryptodome, protobuf, pillow, parsimonious, mnemonic, lru-dict, jsonschema, hidapi, hexbytes, grpcio, future, eth-typing, eth-hash, ecdsa, click, charset-normalizer, certifi, attrdict, requests, jsonrpcclient, grpcio-tools, grpcio-health-checking, cytoolz, python-u2flib-host, ipfsapi, eth-utils, rlp, ledgerblue, eth-keys, eth-abi, trezor, eth-rlp, eth-keyfile, eth-account, web3, snet.snet-cli, snet-cli, snet.sdk\n",
            "\u001b[31mERROR: pip's dependency resolver does not currently take into account all the packages that are installed. This behaviour is the source of the following dependency conflicts.\n",
            "jupyter-events 0.6.3 requires pyyaml>=5.3, but you have pyyaml 4.2b1 which is incompatible.\u001b[0m\u001b[31m\n",
            "\u001b[0mSuccessfully installed argcomplete-1.9.4 attrdict-2.0.1 base58-1.0.2 certifi-2023.11.17 charset-normalizer-3.3.2 click-8.1.7 cytoolz-0.12.2 ecdsa-0.18.0 ecpy-1.2.5 eth-abi-1.3.0 eth-account-0.3.0 eth-hash-0.5.2 eth-keyfile-0.5.1 eth-keys-0.2.4 eth-rlp-0.2.1 eth-typing-2.3.0 eth-utils-1.9.5 future-0.18.3 grpcio-1.60.0 grpcio-health-checking-1.19.0 grpcio-tools-1.19.0 hexbytes-0.3.1 hidapi-0.14.0 ipfsapi-0.4.2.post1 jsonrpcclient-2.5.2 jsonschema-3.2.0 ledgerblue-0.1.27 libusb1-3.1.0 lru-dict-1.3.0 mnemonic-0.18 parsimonious-0.8.1 pbkdf2-1.3 pillow-10.1.0 protobuf-4.25.1 pyblake2-1.1.2 pycoin-0.80 pycryptodome-3.19.1 pycryptodomex-3.19.1 pymultihash-0.8.2 python-u2flib-host-3.0.3 pyyaml-4.2b1 requests-2.31.0 rfc3986-1.1.0 rlp-1.0.1 snet-cli-2.0.8 snet.sdk-3.0.1 snet.snet-cli-2.0.8 toolz-0.12.0 trezor-0.9.1 urllib3-2.1.0 web3-4.8.3 websockets-6.0\n",
            "Note: you may need to restart the kernel to use updated packages.\n"
          ]
        }
      ],
      "source": [
        "pip install -r requirement.txt"
      ]
    },
    {
      "cell_type": "code",
      "execution_count": 11,
      "metadata": {
        "vscode": {
          "languageId": "shellscript"
        }
      },
      "outputs": [],
      "source": [
        "import os, fnmatch\n",
        "def findReplaceAll(directory, find, replace, filePattern):\n",
        "    for path, dirs, files in os.walk(os.path.abspath(directory)):\n",
        "        for filename in fnmatch.filter(files, filePattern):\n",
        "            filepath = os.path.join(path, filename)\n",
        "            with open(filepath) as f:\n",
        "                s = f.read()\n",
        "            s = s.replace(find, replace)\n",
        "            with open(filepath, \"w\") as f:\n",
        "                f.write(s)"
      ]
    },
    {
      "cell_type": "code",
      "execution_count": 18,
      "metadata": {
        "vscode": {
          "languageId": "shellscript"
        }
      },
      "outputs": [],
      "source": [
        "findReplaceAll(\"/config/.local/lib/python3.10/site-packages/\", \"import collections\", \"from collections import\", \"*.py\")"
      ]
    },
    {
      "cell_type": "code",
      "execution_count": 21,
      "metadata": {
        "vscode": {
          "languageId": "shellscript"
        }
      },
      "outputs": [],
      "source": [
        "rm -r /config/.local/lib/python3.10/site-packages/*"
      ]
    },
    {
      "cell_type": "code",
      "execution_count": 12,
      "metadata": {
        "vscode": {
          "languageId": "shellscript"
        }
      },
      "outputs": [],
      "source": [
        "def findReplace(filename, find, replace):\n",
        "    # Read in the file\n",
        "    with open(filename, 'r') as file:\n",
        "        filedata = file.read()\n",
        "\n",
        "    # Replace the target string\n",
        "    filedata = filedata.replace(find, replace)\n",
        "\n",
        "    # Write the file out again\n",
        "    with open(filename, 'w') as file:\n",
        "        file.write(filedata)"
      ]
    },
    {
      "cell_type": "code",
      "execution_count": 15,
      "metadata": {
        "vscode": {
          "languageId": "shellscript"
        }
      },
      "outputs": [],
      "source": [
        "findReplace(\"/config/.local/lib/python3.10/site-packages/eth_account/account.py\", \"from collections import\", \"from collections.abc import\")"
      ]
    },
    {
      "cell_type": "code",
      "execution_count": 31,
      "metadata": {
        "vscode": {
          "languageId": "shellscript"
        }
      },
      "outputs": [],
      "source": [
        "findReplace(\"/config/.local/lib/python3.10/site-packages/attrdict/mapping.py\", \"from collections import\", \"from collections.abc import\")"
      ]
    },
    {
      "cell_type": "code",
      "execution_count": 33,
      "metadata": {
        "vscode": {
          "languageId": "shellscript"
        }
      },
      "outputs": [],
      "source": [
        "findReplace(\"/config/.local/lib/python3.10/site-packages/attrdict/mixins.py\", \"from collections import\", \"from collections.abc import\")"
      ]
    },
    {
      "cell_type": "code",
      "execution_count": 35,
      "metadata": {
        "vscode": {
          "languageId": "shellscript"
        }
      },
      "outputs": [],
      "source": [
        "findReplace(\"/config/.local/lib/python3.10/site-packages/attrdict/merge.py\", \"from collections import\", \"from collections.abc import\")"
      ]
    },
    {
      "cell_type": "code",
      "execution_count": 19,
      "metadata": {
        "vscode": {
          "languageId": "shellscript"
        }
      },
      "outputs": [
        {
          "name": "stdout",
          "output_type": "stream",
          "text": [
            "Traceback (most recent call last):\n",
            "  File \"/config/workspace/repo/timeSeries/cntk-lstm-forecast-boilerplate/service.py\", line 1, in <module>\n",
            "    from snet.sdk import SnetSDK\n",
            "  File \"/config/.local/lib/python3.10/site-packages/snet/sdk/__init__.py\", line 2, in <module>\n",
            "    from snet.sdk.metadata_provider.ipfs_metadata_provider import IPFSMetadataProvider\n",
            "  File \"/config/.local/lib/python3.10/site-packages/snet/sdk/metadata_provider/ipfs_metadata_provider.py\", line 1, in <module>\n",
            "    from snet.snet_cli.metadata.service import mpe_service_metadata_from_json\n",
            "  File \"/config/.local/lib/python3.10/site-packages/snet/snet_cli/metadata/service.py\", line 46, in <module>\n",
            "    from snet.snet_cli.utils.utils import is_valid_endpoint\n",
            "  File \"/config/.local/lib/python3.10/site-packages/snet/snet_cli/utils/utils.py\", line 10, in <module>\n",
            "    import web3\n",
            "  File \"/config/.local/lib/python3.10/site-packages/web3/__init__.py\", line 7, in <module>\n",
            "    from eth_account import Account  # noqa: E402\n",
            "  File \"/config/.local/lib/python3.10/site-packages/eth_account/__init__.py\", line 1, in <module>\n",
            "    from eth_account.account import Account  # noqa: F401\n",
            "  File \"/config/.local/lib/python3.10/site-packages/eth_account/account.py\", line 7, in <module>\n",
            "    from cytoolz import (\n",
            "  File \"/config/.local/lib/python3.10/site-packages/cytoolz/__init__.py\", line 1, in <module>\n",
            "    from .itertoolz import *\n",
            "  File \"cytoolz/itertoolz.pyx\", line 17, in init cytoolz.itertoolz\n",
            "  File \"cytoolz/utils.pyx\", line 10, in init cytoolz.utils\n",
            "  File \"/config/.local/lib/python3.10/site-packages/toolz/__init__.py\", line 1, in <module>\n",
            "    from .itertoolz import *\n",
            "  File \"/config/.local/lib/python3.10/site-packages/toolz/itertoolz.py\", line 3\n",
            "    from collections import\n",
            "                           ^\n",
            "SyntaxError: invalid syntax\n"
          ]
        }
      ],
      "source": [
        "!python3 service.py"
      ]
    },
    {
      "cell_type": "code",
      "execution_count": null,
      "metadata": {
        "vscode": {
          "languageId": "shellscript"
        }
      },
      "outputs": [],
      "source": []
    },
    {
      "cell_type": "code",
      "execution_count": null,
      "metadata": {
        "vscode": {
          "languageId": "shellscript"
        }
      },
      "outputs": [],
      "source": []
    }
  ],
  "metadata": {
    "colab": {
      "authorship_tag": "ABX9TyNNt4H+ASgfmmet3E6OWdwa",
      "include_colab_link": true,
      "provenance": []
    },
    "kernelspec": {
      "display_name": "Python 3",
      "language": "python",
      "name": "python3"
    },
    "language_info": {
      "codemirror_mode": {
        "name": "ipython",
        "version": 3
      },
      "file_extension": ".py",
      "mimetype": "text/x-python",
      "name": "python",
      "nbconvert_exporter": "python",
      "pygments_lexer": "ipython3",
      "version": "3.10.12"
    }
  },
  "nbformat": 4,
  "nbformat_minor": 0
}
