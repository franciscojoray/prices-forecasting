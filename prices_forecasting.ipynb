{
  "cells": [
    {
      "cell_type": "markdown",
      "metadata": {
        "colab_type": "text",
        "id": "view-in-github"
      },
      "source": [
        "<a href=\"https://colab.research.google.com/github/federicoweill/pycardano-tutorial/blob/main/pycardano_tutorial.ipynb\" target=\"_parent\"><img src=\"https://colab.research.google.com/assets/colab-badge.svg\" alt=\"Open In Colab\"/></a>"
      ]
    },
    {
      "attachments": {},
      "cell_type": "markdown",
      "metadata": {
        "id": "iDO1KwKeuoN8"
      },
      "source": [
        "## Python Jupyter Notebook for Cardano on Demeter"
      ]
    },
    {
      "cell_type": "code",
      "execution_count": 1,
      "metadata": {
        "vscode": {
          "languageId": "shellscript"
        }
      },
      "outputs": [
        {
          "name": "stdout",
          "output_type": "stream",
          "text": [
            "/config/workspace/repo/time_series\n"
          ]
        }
      ],
      "source": [
        "cd ~/workspace/repo/time_series/"
      ]
    },
    {
      "cell_type": "code",
      "execution_count": 6,
      "metadata": {
        "vscode": {
          "languageId": "shellscript"
        }
      },
      "outputs": [
        {
          "name": "stdout",
          "output_type": "stream",
          "text": [
            "Defaulting to user installation because normal site-packages is not writeable\n",
            "Requirement already satisfied: snet.sdk in /config/.local/lib/python3.10/site-packages (from -r requirement.txt (line 1)) (3.0.1)\n",
            "Requirement already satisfied: snet-cli in /config/.local/lib/python3.10/site-packages (from -r requirement.txt (line 2)) (2.0.8)\n",
            "Requirement already satisfied: snet.snet-cli in /config/.local/lib/python3.10/site-packages (from snet.sdk->-r requirement.txt (line 1)) (2.0.8)\n",
            "Requirement already satisfied: web3==4.8.3 in /config/.local/lib/python3.10/site-packages (from snet-cli->-r requirement.txt (line 2)) (4.8.3)\n",
            "Requirement already satisfied: mnemonic==0.18 in /config/.local/lib/python3.10/site-packages (from snet-cli->-r requirement.txt (line 2)) (0.18)\n",
            "Requirement already satisfied: ledgerblue==0.1.27 in /config/.local/lib/python3.10/site-packages (from snet-cli->-r requirement.txt (line 2)) (0.1.27)\n",
            "Requirement already satisfied: jsonrpcclient==2.5.2 in /config/.local/lib/python3.10/site-packages (from snet-cli->-r requirement.txt (line 2)) (2.5.2)\n",
            "Requirement already satisfied: pyyaml==4.2b1 in /config/.local/lib/python3.10/site-packages (from snet-cli->-r requirement.txt (line 2)) (4.2b1)\n",
            "Requirement already satisfied: pymultihash==0.8.2 in /config/.local/lib/python3.10/site-packages (from snet-cli->-r requirement.txt (line 2)) (0.8.2)\n",
            "Requirement already satisfied: jsonschema==3.2.0 in /config/.local/lib/python3.10/site-packages (from snet-cli->-r requirement.txt (line 2)) (3.2.0)\n",
            "Requirement already satisfied: rfc3986==1.1.0 in /config/.local/lib/python3.10/site-packages (from snet-cli->-r requirement.txt (line 2)) (1.1.0)\n",
            "Requirement already satisfied: base58==1.0.2 in /config/.local/lib/python3.10/site-packages (from snet-cli->-r requirement.txt (line 2)) (1.0.2)\n",
            "Requirement already satisfied: argcomplete==1.9.4 in /config/.local/lib/python3.10/site-packages (from snet-cli->-r requirement.txt (line 2)) (1.9.4)\n",
            "Requirement already satisfied: pycoin==0.80 in /config/.local/lib/python3.10/site-packages (from snet-cli->-r requirement.txt (line 2)) (0.80)\n",
            "Requirement already satisfied: grpcio-health-checking==1.19.0 in /config/.local/lib/python3.10/site-packages (from snet-cli->-r requirement.txt (line 2)) (1.19.0)\n",
            "Requirement already satisfied: trezor==0.9.1 in /config/.local/lib/python3.10/site-packages (from snet-cli->-r requirement.txt (line 2)) (0.9.1)\n",
            "Requirement already satisfied: rlp==1.0.1 in /config/.local/lib/python3.10/site-packages (from snet-cli->-r requirement.txt (line 2)) (1.0.1)\n",
            "Requirement already satisfied: ipfsapi==0.4.2.post1 in /config/.local/lib/python3.10/site-packages (from snet-cli->-r requirement.txt (line 2)) (0.4.2.post1)\n",
            "Requirement already satisfied: grpcio-tools==1.19.0 in /config/.local/lib/python3.10/site-packages (from snet-cli->-r requirement.txt (line 2)) (1.19.0)\n",
            "Requirement already satisfied: protobuf>=3.6.0 in /config/.local/lib/python3.10/site-packages (from grpcio-health-checking==1.19.0->snet-cli->-r requirement.txt (line 2)) (4.25.1)\n",
            "Requirement already satisfied: grpcio>=1.19.0 in /config/.local/lib/python3.10/site-packages (from grpcio-health-checking==1.19.0->snet-cli->-r requirement.txt (line 2)) (1.60.0)\n",
            "Requirement already satisfied: six in /usr/lib/python3/dist-packages (from ipfsapi==0.4.2.post1->snet-cli->-r requirement.txt (line 2)) (1.16.0)\n",
            "Requirement already satisfied: requests>=2.2.1 in /config/.local/lib/python3.10/site-packages (from ipfsapi==0.4.2.post1->snet-cli->-r requirement.txt (line 2)) (2.31.0)\n",
            "Requirement already satisfied: future in /config/.local/lib/python3.10/site-packages (from jsonrpcclient==2.5.2->snet-cli->-r requirement.txt (line 2)) (0.18.3)\n",
            "Requirement already satisfied: attrs>=17.4.0 in /usr/local/lib/python3.10/dist-packages (from jsonschema==3.2.0->snet-cli->-r requirement.txt (line 2)) (23.1.0)\n",
            "Requirement already satisfied: setuptools in /usr/lib/python3/dist-packages (from jsonschema==3.2.0->snet-cli->-r requirement.txt (line 2)) (59.6.0)\n",
            "Requirement already satisfied: pyrsistent>=0.14.0 in /usr/local/lib/python3.10/dist-packages (from jsonschema==3.2.0->snet-cli->-r requirement.txt (line 2)) (0.19.3)\n",
            "Requirement already satisfied: websocket-client>=0.56.0 in /usr/local/lib/python3.10/dist-packages (from ledgerblue==0.1.27->snet-cli->-r requirement.txt (line 2)) (1.5.1)\n",
            "Requirement already satisfied: pillow>=3.4.0 in /config/.local/lib/python3.10/site-packages (from ledgerblue==0.1.27->snet-cli->-r requirement.txt (line 2)) (10.2.0)\n",
            "Requirement already satisfied: hidapi>=0.7.99 in /config/.local/lib/python3.10/site-packages (from ledgerblue==0.1.27->snet-cli->-r requirement.txt (line 2)) (0.14.0)\n",
            "Requirement already satisfied: pycryptodomex>=3.6.1 in /config/.local/lib/python3.10/site-packages (from ledgerblue==0.1.27->snet-cli->-r requirement.txt (line 2)) (3.19.1)\n",
            "Requirement already satisfied: ecpy>=0.9.0 in /config/.local/lib/python3.10/site-packages (from ledgerblue==0.1.27->snet-cli->-r requirement.txt (line 2)) (1.2.5)\n",
            "Requirement already satisfied: python-u2flib-host>=3.0.2 in /config/.local/lib/python3.10/site-packages (from ledgerblue==0.1.27->snet-cli->-r requirement.txt (line 2)) (3.0.3)\n",
            "Requirement already satisfied: pbkdf2 in /config/.local/lib/python3.10/site-packages (from mnemonic==0.18->snet-cli->-r requirement.txt (line 2)) (1.3)\n",
            "Requirement already satisfied: eth-utils<2,>=1.0.2 in /config/.local/lib/python3.10/site-packages (from rlp==1.0.1->snet-cli->-r requirement.txt (line 2)) (1.9.5)\n",
            "Requirement already satisfied: ecdsa>=0.9 in /config/.local/lib/python3.10/site-packages (from trezor==0.9.1->snet-cli->-r requirement.txt (line 2)) (0.18.0)\n",
            "Requirement already satisfied: libusb1>=1.6.4 in /config/.local/lib/python3.10/site-packages (from trezor==0.9.1->snet-cli->-r requirement.txt (line 2)) (3.1.0)\n",
            "Requirement already satisfied: click>=6.2 in /config/.local/lib/python3.10/site-packages (from trezor==0.9.1->snet-cli->-r requirement.txt (line 2)) (8.1.7)\n",
            "Requirement already satisfied: pyblake2>=0.9.3 in /config/.local/lib/python3.10/site-packages (from trezor==0.9.1->snet-cli->-r requirement.txt (line 2)) (1.1.2)\n",
            "Requirement already satisfied: eth-abi<2.0.0,>=1.2.0 in /config/.local/lib/python3.10/site-packages (from web3==4.8.3->snet-cli->-r requirement.txt (line 2)) (1.3.0)\n",
            "Requirement already satisfied: lru-dict<2.0.0,>=1.1.6 in /config/.local/lib/python3.10/site-packages (from web3==4.8.3->snet-cli->-r requirement.txt (line 2)) (1.3.0)\n",
            "Requirement already satisfied: eth-account<0.4.0,>=0.2.1 in /config/.local/lib/python3.10/site-packages (from web3==4.8.3->snet-cli->-r requirement.txt (line 2)) (0.3.0)\n",
            "Requirement already satisfied: websockets<7.0.0,>=6.0.0 in /config/.local/lib/python3.10/site-packages (from web3==4.8.3->snet-cli->-r requirement.txt (line 2)) (6.0)\n",
            "Requirement already satisfied: eth-hash[pycryptodome]<1.0.0,>=0.2.0 in /config/.local/lib/python3.10/site-packages (from web3==4.8.3->snet-cli->-r requirement.txt (line 2)) (0.5.2)\n",
            "Requirement already satisfied: cytoolz<1.0.0,>=0.9.0 in /config/.local/lib/python3.10/site-packages (from web3==4.8.3->snet-cli->-r requirement.txt (line 2)) (0.12.2)\n",
            "Requirement already satisfied: hexbytes<1.0.0,>=0.1.0 in /config/.local/lib/python3.10/site-packages (from web3==4.8.3->snet-cli->-r requirement.txt (line 2)) (0.3.1)\n",
            "Requirement already satisfied: toolz>=0.8.0 in /config/.local/lib/python3.10/site-packages (from cytoolz<1.0.0,>=0.9.0->web3==4.8.3->snet-cli->-r requirement.txt (line 2)) (0.12.0)\n",
            "Requirement already satisfied: parsimonious<0.9.0,>=0.8.0 in /config/.local/lib/python3.10/site-packages (from eth-abi<2.0.0,>=1.2.0->web3==4.8.3->snet-cli->-r requirement.txt (line 2)) (0.8.1)\n",
            "Requirement already satisfied: eth-typing<3.0.0,>=2.0.0 in /config/.local/lib/python3.10/site-packages (from eth-abi<2.0.0,>=1.2.0->web3==4.8.3->snet-cli->-r requirement.txt (line 2)) (2.3.0)\n",
            "Requirement already satisfied: attrdict<3,>=2.0.0 in /config/.local/lib/python3.10/site-packages (from eth-account<0.4.0,>=0.2.1->web3==4.8.3->snet-cli->-r requirement.txt (line 2)) (2.0.1)\n",
            "Requirement already satisfied: eth-rlp<1,>=0.1.2 in /config/.local/lib/python3.10/site-packages (from eth-account<0.4.0,>=0.2.1->web3==4.8.3->snet-cli->-r requirement.txt (line 2)) (0.2.1)\n",
            "Requirement already satisfied: eth-keyfile<0.6.0,>=0.5.0 in /config/.local/lib/python3.10/site-packages (from eth-account<0.4.0,>=0.2.1->web3==4.8.3->snet-cli->-r requirement.txt (line 2)) (0.5.1)\n",
            "Requirement already satisfied: eth-keys<0.3.0,>=0.2.0b3 in /config/.local/lib/python3.10/site-packages (from eth-account<0.4.0,>=0.2.1->web3==4.8.3->snet-cli->-r requirement.txt (line 2)) (0.2.4)\n",
            "Requirement already satisfied: pycryptodome<4,>=3.6.6 in /config/.local/lib/python3.10/site-packages (from eth-hash[pycryptodome]<1.0.0,>=0.2.0->web3==4.8.3->snet-cli->-r requirement.txt (line 2)) (3.19.1)\n",
            "Requirement already satisfied: idna<4,>=2.5 in /usr/local/lib/python3.10/dist-packages (from requests>=2.2.1->ipfsapi==0.4.2.post1->snet-cli->-r requirement.txt (line 2)) (3.4)\n",
            "Requirement already satisfied: urllib3<3,>=1.21.1 in /config/.local/lib/python3.10/site-packages (from requests>=2.2.1->ipfsapi==0.4.2.post1->snet-cli->-r requirement.txt (line 2)) (2.1.0)\n",
            "Requirement already satisfied: charset-normalizer<4,>=2 in /config/.local/lib/python3.10/site-packages (from requests>=2.2.1->ipfsapi==0.4.2.post1->snet-cli->-r requirement.txt (line 2)) (3.3.2)\n",
            "Requirement already satisfied: certifi>=2017.4.17 in /config/.local/lib/python3.10/site-packages (from requests>=2.2.1->ipfsapi==0.4.2.post1->snet-cli->-r requirement.txt (line 2)) (2023.11.17)\n"
          ]
        }
      ],
      "source": [
        "!pip install -r requirement.txt"
      ]
    },
    {
      "cell_type": "code",
      "execution_count": 4,
      "metadata": {
        "vscode": {
          "languageId": "shellscript"
        }
      },
      "outputs": [
        {
          "name": "stdout",
          "output_type": "stream",
          "text": [
            "Defaulting to user installation because normal site-packages is not writeable\n",
            "Requirement already satisfied: matplotlib in /config/.local/lib/python3.10/site-packages (3.8.2)\n",
            "Requirement already satisfied: cbor2 in /config/.local/lib/python3.10/site-packages (5.5.1)\n",
            "Requirement already satisfied: pycardano in /config/.local/lib/python3.10/site-packages (0.10.0)\n",
            "Requirement already satisfied: contourpy>=1.0.1 in /config/.local/lib/python3.10/site-packages (from matplotlib) (1.2.0)\n",
            "Requirement already satisfied: packaging>=20.0 in /usr/local/lib/python3.10/dist-packages (from matplotlib) (23.1)\n",
            "Requirement already satisfied: fonttools>=4.22.0 in /config/.local/lib/python3.10/site-packages (from matplotlib) (4.47.0)\n",
            "Requirement already satisfied: cycler>=0.10 in /config/.local/lib/python3.10/site-packages (from matplotlib) (0.12.1)\n",
            "Requirement already satisfied: pillow>=8 in /config/.local/lib/python3.10/site-packages (from matplotlib) (10.2.0)\n",
            "Requirement already satisfied: numpy<2,>=1.21 in /config/.local/lib/python3.10/site-packages (from matplotlib) (1.26.3)\n",
            "Requirement already satisfied: python-dateutil>=2.7 in /usr/local/lib/python3.10/dist-packages (from matplotlib) (2.8.2)\n",
            "Requirement already satisfied: kiwisolver>=1.3.1 in /config/.local/lib/python3.10/site-packages (from matplotlib) (1.4.5)\n",
            "Requirement already satisfied: pyparsing>=2.3.1 in /usr/lib/python3/dist-packages (from matplotlib) (2.4.7)\n",
            "Requirement already satisfied: typeguard<3.0.0,>=2.13.3 in /config/.local/lib/python3.10/site-packages (from pycardano) (2.13.3)\n",
            "Requirement already satisfied: pprintpp<0.5.0,>=0.4.0 in /config/.local/lib/python3.10/site-packages (from pycardano) (0.4.0)\n",
            "Requirement already satisfied: frozendict<3.0.0,>=2.3.8 in /config/.local/lib/python3.10/site-packages (from pycardano) (2.4.0)\n",
            "Requirement already satisfied: blockfrost-python==0.5.3 in /config/.local/lib/python3.10/site-packages (from pycardano) (0.5.3)\n",
            "Requirement already satisfied: cachetools<6.0.0,>=5.3.0 in /config/.local/lib/python3.10/site-packages (from pycardano) (5.3.2)\n",
            "Requirement already satisfied: ECPy<2.0.0,>=1.2.5 in /config/.local/lib/python3.10/site-packages (from pycardano) (1.2.5)\n",
            "Requirement already satisfied: PyNaCl<2.0.0,>=1.5.0 in /config/.local/lib/python3.10/site-packages (from pycardano) (1.5.0)\n",
            "Requirement already satisfied: cose==0.9.dev8 in /config/.local/lib/python3.10/site-packages (from pycardano) (0.9.dev8)\n",
            "Requirement already satisfied: frozenlist<2.0.0,>=1.3.3 in /config/.local/lib/python3.10/site-packages (from pycardano) (1.4.1)\n",
            "Requirement already satisfied: websocket-client<2.0.0,>=1.4.1 in /usr/local/lib/python3.10/dist-packages (from pycardano) (1.5.1)\n",
            "Requirement already satisfied: mnemonic<0.21,>=0.20 in /config/.local/lib/python3.10/site-packages (from pycardano) (0.20)\n",
            "Requirement already satisfied: requests in /config/.local/lib/python3.10/site-packages (from blockfrost-python==0.5.3->pycardano) (2.31.0)\n",
            "Requirement already satisfied: certvalidator in /config/.local/lib/python3.10/site-packages (from cose==0.9.dev8->pycardano) (0.11.1)\n",
            "Requirement already satisfied: ecdsa in /config/.local/lib/python3.10/site-packages (from cose==0.9.dev8->pycardano) (0.18.0)\n",
            "Requirement already satisfied: attrs in /usr/local/lib/python3.10/dist-packages (from cose==0.9.dev8->pycardano) (23.1.0)\n",
            "Requirement already satisfied: cryptography in /usr/lib/python3/dist-packages (from cose==0.9.dev8->pycardano) (3.4.8)\n",
            "Requirement already satisfied: cffi>=1.4.1 in /usr/local/lib/python3.10/dist-packages (from PyNaCl<2.0.0,>=1.5.0->pycardano) (1.15.1)\n",
            "Requirement already satisfied: six>=1.5 in /usr/lib/python3/dist-packages (from python-dateutil>=2.7->matplotlib) (1.16.0)\n",
            "Requirement already satisfied: pycparser in /usr/local/lib/python3.10/dist-packages (from cffi>=1.4.1->PyNaCl<2.0.0,>=1.5.0->pycardano) (2.21)\n",
            "Requirement already satisfied: asn1crypto>=0.18.1 in /config/.local/lib/python3.10/site-packages (from certvalidator->cose==0.9.dev8->pycardano) (1.5.1)\n",
            "Requirement already satisfied: oscrypto>=0.16.1 in /config/.local/lib/python3.10/site-packages (from certvalidator->cose==0.9.dev8->pycardano) (1.3.0)\n",
            "Requirement already satisfied: idna<4,>=2.5 in /usr/local/lib/python3.10/dist-packages (from requests->blockfrost-python==0.5.3->pycardano) (3.4)\n",
            "Requirement already satisfied: certifi>=2017.4.17 in /config/.local/lib/python3.10/site-packages (from requests->blockfrost-python==0.5.3->pycardano) (2023.11.17)\n",
            "Requirement already satisfied: charset-normalizer<4,>=2 in /config/.local/lib/python3.10/site-packages (from requests->blockfrost-python==0.5.3->pycardano) (3.3.2)\n",
            "Requirement already satisfied: urllib3<3,>=1.21.1 in /config/.local/lib/python3.10/site-packages (from requests->blockfrost-python==0.5.3->pycardano) (2.1.0)\n"
          ]
        }
      ],
      "source": [
        "!pip install matplotlib cbor2 pycardano"
      ]
    },
    {
      "cell_type": "code",
      "execution_count": 5,
      "metadata": {
        "vscode": {
          "languageId": "shellscript"
        }
      },
      "outputs": [],
      "source": [
        "\"\"\"Single-script demo to show how to access on on-chain datum.\"\"\"\n",
        "# pylint: disable=W0718, C0206\n",
        "\n",
        "import json\n",
        "import logging\n",
        "import sys\n",
        "from collections import OrderedDict\n",
        "from dataclasses import dataclass\n",
        "from datetime import datetime, timezone\n",
        "from typing import Final\n",
        "\n",
        "import cbor2\n",
        "import numpy\n",
        "import pycardano\n",
        "from pycardano import Address, Network, OgmiosChainContext, UTxO\n",
        "\n",
        "OGMIOS_URL: Final[str] = \"ws://ogmios.preprod.orcfax.io:1337\"\n",
        "\n",
        "# smart contract\n",
        "ADA_USD_ORACLE_ADDR: Final[\n",
        "    str\n",
        "] = \"addr_test1wrtcecfy7np3sduzn99ffuv8qx2sa8v977l0xql8ca7lgkgmktuc0\"\n",
        "\n",
        "auth_addr = Address.from_primitive(\n",
        "    \"addr_test1vrc7lrdcsz08vxuj4278aeyn4g82salal76l54gr6rw4ync86tfse\"\n",
        ")\n",
        "\n",
        "# policy ID for the Auth tokens\n",
        "AUTH_POLICY: Final[str] = \"104d51dd927761bf5d50d32e1ede4b2cff477d475fe32f4f780a4b21\"\n",
        "\n",
        "network = Network.TESTNET\n",
        "context = OgmiosChainContext(ws_url=OGMIOS_URL, network=network)\n",
        "\n",
        "logger = logging.getLogger(__name__)\n",
        "\n",
        "logging.basicConfig(\n",
        "    format=\"%(asctime)-15s %(levelname)s :: %(filename)s:%(lineno)s:%(funcName)s() :: %(message)s\",\n",
        "    datefmt=\"%Y-%m-%dT%H:%M:%SZ\",\n",
        "    level=\"INFO\",\n",
        ")\n",
        "\n",
        "\n",
        "def _decode_number(value_pair: list):\n",
        "    \"\"\"Decode a number value.\"\"\"\n",
        "    significand = numpy.uint64(value_pair[0]).astype(numpy.int64)\n",
        "    base10_component = numpy.uint64(value_pair[1]).astype(numpy.int64)\n",
        "    value = significand * 10 ** numpy.float_(base10_component)\n",
        "    return value\n",
        "\n",
        "\n",
        "def timestamp_to_human(timestamp):\n",
        "    return datetime.utcfromtimestamp(int(timestamp) / 1000).strftime(\n",
        "        \"%Y-%m-%dT%H:%M:%SZ\"\n",
        "    )\n",
        "\n",
        "\n",
        "def decode_utxo(utxo: pycardano.transaction.UTxO):\n",
        "    \"\"\"Split a UTxO into the components that we need to process and\n",
        "    initially return the Orcfax Datum.\"\"\"\n",
        "    oracle_datum = cbor2.loads(utxo.output.datum.cbor)\n",
        "    timestamp = oracle_datum.value[2].value[0]\n",
        "    timestamp_human = timestamp_to_human(timestamp)\n",
        "    logger.info(\"oracle datum timestamp: %s (%s)\", timestamp_human, timestamp)\n",
        "    labels = oracle_datum.value[0][b\"name\"].decode().split(\"|\", 1)\n",
        "    ada_usd = oracle_datum.value[0][b\"value\"][0].value\n",
        "    pretty_log_value(ada_usd, labels[0])\n",
        "    return (timestamp, _decode_number(ada_usd))\n",
        "\n",
        "\n",
        "def pretty_log_value(value_pair: cbor2.CBORTag, label: str):\n",
        "    \"\"\"Return pretty logging information about a value pair.\"\"\"\n",
        "    value = _decode_number(value_pair)\n",
        "    logger.info(\"%s: %s\", label, value)\n",
        "\n",
        "\n",
        "def validate_utxo(utxo: UTxO):\n",
        "    \"\"\"check if the token included in the utxo is the correct one.\"\"\"\n",
        "    valid = False\n",
        "    for item in utxo.output.amount.multi_asset:\n",
        "        if str(item) == AUTH_POLICY:\n",
        "            valid = True\n",
        "            for asset in utxo.output.amount.multi_asset[item]:\n",
        "                amount = utxo.output.amount.multi_asset[item][asset]\n",
        "                logger.info(\"found %d %s\", amount, str(asset))\n",
        "    return valid\n",
        "\n",
        "\n",
        "def get_utxos(oracle_addr: str):\n",
        "    \"\"\"return the Orcfax UTxOs.\"\"\"\n",
        "    oracle_utxos = context.utxos(oracle_addr)\n",
        "    utxos = []\n",
        "    logger.info(\"inspecting '%s' UTxOs\", len(oracle_utxos))\n",
        "    for utxo in oracle_utxos:\n",
        "        if not utxo.output.script and utxo.output.datum and validate_utxo(utxo):\n",
        "            utxos.append(utxo)\n",
        "    return utxos\n",
        "\n",
        "\n",
        "def read_datum():\n",
        "    \"\"\"Get the timestamps and prices from all validated Orcfax UTxOs.\"\"\"\n",
        "    logger.info(\"entering this script... \")\n",
        "    logger.info(\"oracle smart contract: %s\", ADA_USD_ORACLE_ADDR)\n",
        "    utxos = get_utxos(ADA_USD_ORACLE_ADDR)\n",
        "    times_prices = []\n",
        "    if not utxos:\n",
        "        logger.info(\"no oracle data found\")\n",
        "        sys.exit(0)\n",
        "    for utxo in utxos:\n",
        "        (timestamp, ada_usd) = decode_utxo(utxo)\n",
        "        times_prices.append((timestamp, ada_usd))\n",
        "    return times_prices"
      ]
    },
    {
      "cell_type": "code",
      "execution_count": 6,
      "metadata": {
        "vscode": {
          "languageId": "shellscript"
        }
      },
      "outputs": [
        {
          "name": "stderr",
          "output_type": "stream",
          "text": [
            "2024-01-03T03:02:53Z INFO :: 1906248053.py:101:read_datum() :: entering this script... \n",
            "2024-01-03T03:02:53Z INFO :: 1906248053.py:102:read_datum() :: oracle smart contract: addr_test1wrtcecfy7np3sduzn99ffuv8qx2sa8v977l0xql8ca7lgkgmktuc0\n",
            "2024-01-03T03:02:56Z INFO :: 1906248053.py:92:get_utxos() :: inspecting '872' UTxOs\n",
            "2024-01-03T03:02:56Z INFO :: 1906248053.py:84:validate_utxo() :: found 1 f874dd4a0978bc3c4b605d778ceaeda3331b28b9aba0c47283ce9efb50391222\n",
            "2024-01-03T03:02:56Z INFO :: 1906248053.py:84:validate_utxo() :: found 1 c7a60cddf97be8bd153805e2662abb64418398f0fabaeb70ed36d89970ef4721\n",
            "2024-01-03T03:02:56Z INFO :: 1906248053.py:84:validate_utxo() :: found 1 f7711c1fdfad9913246eb0f2a40a10abb8e81e86d8d0ee83e62616feb0e52ba0\n",
            "2024-01-03T03:02:56Z INFO :: 1906248053.py:84:validate_utxo() :: found 1 2a27baa19a26d3582713bb36776873b87fddcc5b37b7d35920fc5ed406779ee2\n",
            "2024-01-03T03:02:56Z INFO :: 1906248053.py:84:validate_utxo() :: found 1 28757269fdcd391470b3b5b513ab78c6d8621463f8af9395fef72840d287a06f\n",
            "2024-01-03T03:02:56Z INFO :: 1906248053.py:84:validate_utxo() :: found 1 d228f71a0538bc8d813243086d6388be1f8b06040e7c099d45168e5387864fc3\n",
            "2024-01-03T03:02:56Z INFO :: 1906248053.py:84:validate_utxo() :: found 1 a623a5299267e3bf0490740ab29f89105a0752f0b8aaef8aedff7e1f3d218e25\n",
            "2024-01-03T03:02:56Z INFO :: 1906248053.py:84:validate_utxo() :: found 1 5a9e22f696d03d571eb45362fea4c4e7a9af5d4ebb27d8da12b75d5d703b5a72\n",
            "2024-01-03T03:02:56Z INFO :: 1906248053.py:84:validate_utxo() :: found 1 22f5ea7a4cb6b4840dd958f420217b034fb561aeae23bdac28cdc174f3430699\n",
            "2024-01-03T03:02:56Z INFO :: 1906248053.py:84:validate_utxo() :: found 1 a109be4f0154e94ccf8dd8aaf9d25e1658c79a47502278fdefa09cf3f76df577\n",
            "2024-01-03T03:02:56Z INFO :: 1906248053.py:84:validate_utxo() :: found 1 4edaac416e8d0421415b77d25169134c57b19c29e867b301d2cfde2eb6084502\n",
            "2024-01-03T03:02:56Z INFO :: 1906248053.py:84:validate_utxo() :: found 1 d73888fbc85228c807c7f913341bca63641528207d1f540b73cf0e090dbd256a\n",
            "2024-01-03T03:02:56Z INFO :: 1906248053.py:84:validate_utxo() :: found 1 f57ffe33c6e16eebdcd3b11312d0a9f946a1631620bbf1b6be8fbfc4c2e66068\n",
            "2024-01-03T03:02:56Z INFO :: 1906248053.py:84:validate_utxo() :: found 1 c9353801cc4537be9774c647b04e538995d45f788140a474f4ef99a95a6a11af\n",
            "2024-01-03T03:02:56Z INFO :: 1906248053.py:84:validate_utxo() :: found 1 1c9c165b2349dfd43b96a298229c8e89ce89fd5be53549896d81e588f6856477\n",
            "2024-01-03T03:02:56Z INFO :: 1906248053.py:84:validate_utxo() :: found 1 0625fab5eb74161cc1eeeba9d0c9c495adcdee1f2b17a23e190a4073df6c3fe7\n",
            "2024-01-03T03:02:56Z INFO :: 1906248053.py:84:validate_utxo() :: found 1 78ec8fd23826f04146f7b7ebc768c9396ef68f5a2231728f372ea705fe1cf704\n",
            "2024-01-03T03:02:56Z INFO :: 1906248053.py:84:validate_utxo() :: found 1 9c98ce7cf7efd677061857b31be21c31196b2eb7d93f6d4c2e3fa6602f2e689a\n",
            "2024-01-03T03:02:56Z INFO :: 1906248053.py:84:validate_utxo() :: found 1 65bebeb3a9699d2c0cd503d8d118d5acca6e91c15efeef74161c530683de0f01\n",
            "2024-01-03T03:02:56Z INFO :: 1906248053.py:84:validate_utxo() :: found 1 0d1a4a3c7d902ae7ac6cd60879977567c3f8339c57e75a01959eb321035a51ed\n",
            "2024-01-03T03:02:56Z INFO :: 1906248053.py:84:validate_utxo() :: found 1 0752e98beb4810829b1ee685755c9bc8d13566329fad7156fb4589dec9ee882a\n",
            "2024-01-03T03:02:56Z INFO :: 1906248053.py:84:validate_utxo() :: found 1 2a2b4b648ef7f71f8a90e05dcb50ac0f5cf0f15017cf2c1fcb3596aca0e87514\n",
            "2024-01-03T03:02:56Z INFO :: 1906248053.py:84:validate_utxo() :: found 1 72826cbc0d950a5c72fce092292acf58c67ead5b8a9bc0221bcf18eb96b04687\n",
            "2024-01-03T03:02:56Z INFO :: 1906248053.py:84:validate_utxo() :: found 1 34dde63f5f99432d5ab8e6380c6367381a4b159614022c1a052fedfbe8ebed52\n",
            "2024-01-03T03:02:56Z INFO :: 1906248053.py:84:validate_utxo() :: found 1 09c3f4c4401b287e7bf8010febf9cc26a6aa26df28acc70952928eb683fa912a\n",
            "2024-01-03T03:02:56Z INFO :: 1906248053.py:63:decode_utxo() :: oracle datum timestamp: 2024-01-02T23:02:02Z (1704236522280)\n",
            "2024-01-03T03:02:56Z INFO :: 1906248053.py:73:pretty_log_value() :: ADA-USD: 0.6039317622\n",
            "2024-01-03T03:02:56Z INFO :: 1906248053.py:63:decode_utxo() :: oracle datum timestamp: 2024-01-02T17:02:15Z (1704214935658)\n",
            "2024-01-03T03:02:56Z INFO :: 1906248053.py:73:pretty_log_value() :: ADA-USD: 0.6141155802\n",
            "2024-01-03T03:02:56Z INFO :: 1906248053.py:63:decode_utxo() :: oracle datum timestamp: 2024-01-02T18:44:02Z (1704221042341)\n",
            "2024-01-03T03:02:56Z INFO :: 1906248053.py:73:pretty_log_value() :: ADA-USD: 0.6115459999999999\n",
            "2024-01-03T03:02:56Z INFO :: 1906248053.py:63:decode_utxo() :: oracle datum timestamp: 2024-01-03T03:02:13Z (1704250933061)\n",
            "2024-01-03T03:02:56Z INFO :: 1906248053.py:73:pretty_log_value() :: ADA-USD: 0.6110412574\n",
            "2024-01-03T03:02:56Z INFO :: 1906248053.py:63:decode_utxo() :: oracle datum timestamp: 2024-01-02T15:52:32Z (1704210752233)\n",
            "2024-01-03T03:02:56Z INFO :: 1906248053.py:73:pretty_log_value() :: ADA-USD: 0.6124729999999999\n",
            "2024-01-03T03:02:56Z INFO :: 1906248053.py:63:decode_utxo() :: oracle datum timestamp: 2024-01-02T14:02:07Z (1704204127298)\n",
            "2024-01-03T03:02:56Z INFO :: 1906248053.py:73:pretty_log_value() :: ADA-USD: 0.6229845666\n",
            "2024-01-03T03:02:56Z INFO :: 1906248053.py:63:decode_utxo() :: oracle datum timestamp: 2024-01-02T16:02:12Z (1704211332931)\n",
            "2024-01-03T03:02:56Z INFO :: 1906248053.py:73:pretty_log_value() :: ADA-USD: 0.6135\n",
            "2024-01-03T03:02:56Z INFO :: 1906248053.py:63:decode_utxo() :: oracle datum timestamp: 2024-01-03T00:02:04Z (1704240124954)\n",
            "2024-01-03T03:02:56Z INFO :: 1906248053.py:73:pretty_log_value() :: ADA-USD: 0.608287\n",
            "2024-01-03T03:02:56Z INFO :: 1906248053.py:63:decode_utxo() :: oracle datum timestamp: 2024-01-02T08:42:15Z (1704184935859)\n",
            "2024-01-03T03:02:56Z INFO :: 1906248053.py:73:pretty_log_value() :: ADA-USD: 0.6287203876\n",
            "2024-01-03T03:02:56Z INFO :: 1906248053.py:63:decode_utxo() :: oracle datum timestamp: 2024-01-02T13:02:04Z (1704200524583)\n",
            "2024-01-03T03:02:56Z INFO :: 1906248053.py:73:pretty_log_value() :: ADA-USD: 0.6258092604000001\n",
            "2024-01-03T03:02:56Z INFO :: 1906248053.py:63:decode_utxo() :: oracle datum timestamp: 2024-01-02T15:35:26Z (1704209726181)\n",
            "2024-01-03T03:02:56Z INFO :: 1906248053.py:73:pretty_log_value() :: ADA-USD: 0.6191\n",
            "2024-01-03T03:02:56Z INFO :: 1906248053.py:63:decode_utxo() :: oracle datum timestamp: 2024-01-02T18:02:18Z (1704218538375)\n",
            "2024-01-03T03:02:56Z INFO :: 1906248053.py:73:pretty_log_value() :: ADA-USD: 0.6179\n",
            "2024-01-03T03:02:56Z INFO :: 1906248053.py:63:decode_utxo() :: oracle datum timestamp: 2024-01-03T01:02:07Z (1704243727959)\n",
            "2024-01-03T03:02:56Z INFO :: 1906248053.py:73:pretty_log_value() :: ADA-USD: 0.6050374568\n",
            "2024-01-03T03:02:56Z INFO :: 1906248053.py:63:decode_utxo() :: oracle datum timestamp: 2024-01-02T15:02:10Z (1704207730349)\n",
            "2024-01-03T03:02:56Z INFO :: 1906248053.py:73:pretty_log_value() :: ADA-USD: 0.625896\n",
            "2024-01-03T03:02:56Z INFO :: 1906248053.py:63:decode_utxo() :: oracle datum timestamp: 2024-01-02T10:02:26Z (1704189746322)\n",
            "2024-01-03T03:02:56Z INFO :: 1906248053.py:73:pretty_log_value() :: ADA-USD: 0.632921\n",
            "2024-01-03T03:02:56Z INFO :: 1906248053.py:63:decode_utxo() :: oracle datum timestamp: 2024-01-03T04:02:15Z (1704254535571)\n",
            "2024-01-03T03:02:56Z INFO :: 1906248053.py:73:pretty_log_value() :: ADA-USD: 0.6092000000000001\n",
            "2024-01-03T03:02:56Z INFO :: 1906248053.py:63:decode_utxo() :: oracle datum timestamp: 2024-01-02T21:02:26Z (1704229346825)\n",
            "2024-01-03T03:02:56Z INFO :: 1906248053.py:73:pretty_log_value() :: ADA-USD: 0.6146499054\n",
            "2024-01-03T03:02:56Z INFO :: 1906248053.py:63:decode_utxo() :: oracle datum timestamp: 2024-01-02T11:02:29Z (1704193349149)\n",
            "2024-01-03T03:02:56Z INFO :: 1906248053.py:73:pretty_log_value() :: ADA-USD: 0.63175\n",
            "2024-01-03T03:02:56Z INFO :: 1906248053.py:63:decode_utxo() :: oracle datum timestamp: 2024-01-02T21:53:33Z (1704232413307)\n",
            "2024-01-03T03:02:56Z INFO :: 1906248053.py:73:pretty_log_value() :: ADA-USD: 0.6083746506000001\n",
            "2024-01-03T03:02:56Z INFO :: 1906248053.py:63:decode_utxo() :: oracle datum timestamp: 2024-01-02T19:02:21Z (1704222141096)\n",
            "2024-01-03T03:02:56Z INFO :: 1906248053.py:73:pretty_log_value() :: ADA-USD: 0.6139931427\n",
            "2024-01-03T03:02:56Z INFO :: 1906248053.py:63:decode_utxo() :: oracle datum timestamp: 2024-01-02T12:02:01Z (1704196921986)\n",
            "2024-01-03T03:02:56Z INFO :: 1906248053.py:73:pretty_log_value() :: ADA-USD: 0.6281581628\n",
            "2024-01-03T03:02:56Z INFO :: 1906248053.py:63:decode_utxo() :: oracle datum timestamp: 2024-01-02T09:02:23Z (1704186143563)\n",
            "2024-01-03T03:02:56Z INFO :: 1906248053.py:73:pretty_log_value() :: ADA-USD: 0.6275706552\n",
            "2024-01-03T03:02:56Z INFO :: 1906248053.py:63:decode_utxo() :: oracle datum timestamp: 2024-01-02T22:02:29Z (1704232949471)\n",
            "2024-01-03T03:02:56Z INFO :: 1906248053.py:73:pretty_log_value() :: ADA-USD: 0.606603\n",
            "2024-01-03T03:02:56Z INFO :: 1906248053.py:63:decode_utxo() :: oracle datum timestamp: 2024-01-02T20:02:23Z (1704225743751)\n",
            "2024-01-03T03:02:56Z INFO :: 1906248053.py:73:pretty_log_value() :: ADA-USD: 0.61475\n",
            "2024-01-03T03:02:56Z INFO :: 1906248053.py:63:decode_utxo() :: oracle datum timestamp: 2024-01-03T02:02:10Z (1704247330261)\n",
            "2024-01-03T03:02:56Z INFO :: 1906248053.py:73:pretty_log_value() :: ADA-USD: 0.6069500000000001\n"
          ]
        }
      ],
      "source": [
        "times_prices = read_datum()\n",
        "times_prices.sort(key=lambda tp: tp[0])"
      ]
    },
    {
      "cell_type": "code",
      "execution_count": 7,
      "metadata": {
        "vscode": {
          "languageId": "shellscript"
        }
      },
      "outputs": [
        {
          "name": "stderr",
          "output_type": "stream",
          "text": [
            "2024-01-03T03:03:19Z INFO :: font_manager.py:1578:_load_fontmanager() :: generated new fontManager\n"
          ]
        },
        {
          "name": "stdout",
          "output_type": "stream",
          "text": [
            "2024-01-02T08:42:15Z,0.6287203876\n",
            "2024-01-02T09:02:23Z,0.6275706552\n",
            "2024-01-02T10:02:26Z,0.632921\n",
            "2024-01-02T11:02:29Z,0.63175\n",
            "2024-01-02T12:02:01Z,0.6281581628\n",
            "2024-01-02T13:02:04Z,0.6258092604000001\n",
            "2024-01-02T14:02:07Z,0.6229845666\n",
            "2024-01-02T15:02:10Z,0.625896\n",
            "2024-01-02T15:35:26Z,0.6191\n",
            "2024-01-02T15:52:32Z,0.6124729999999999\n",
            "2024-01-02T16:02:12Z,0.6135\n",
            "2024-01-02T17:02:15Z,0.6141155802\n",
            "2024-01-02T18:02:18Z,0.6179\n",
            "2024-01-02T18:44:02Z,0.6115459999999999\n",
            "2024-01-02T19:02:21Z,0.6139931427\n",
            "2024-01-02T20:02:23Z,0.61475\n",
            "2024-01-02T21:02:26Z,0.6146499054\n",
            "2024-01-02T21:53:33Z,0.6083746506000001\n",
            "2024-01-02T22:02:29Z,0.606603\n",
            "2024-01-02T23:02:02Z,0.6039317622\n",
            "2024-01-03T00:02:04Z,0.608287\n",
            "2024-01-03T01:02:07Z,0.6050374568\n",
            "2024-01-03T02:02:10Z,0.6069500000000001\n",
            "2024-01-03T03:02:13Z,0.6110412574\n",
            "2024-01-03T04:02:15Z,0.6092000000000001\n"
          ]
        },
        {
          "data": {
            "text/plain": [
              "[<matplotlib.lines.Line2D at 0x7ff422fad9c0>]"
            ]
          },
          "execution_count": 7,
          "metadata": {},
          "output_type": "execute_result"
        },
        {
          "data": {
            "image/png": "[encoded data removed]",
            "text/plain": [
              "<Figure size 640x480 with 1 Axes>"
            ]
          },
          "metadata": {},
          "output_type": "display_data"
        }
      ],
      "source": [
        "import matplotlib.pyplot as plt\n",
        "for tp in times_prices:\n",
        "    print(\"{0},{1}\".format(timestamp_to_human(tp[0]),tp[1]))\n",
        "\n",
        "plt.plot(*zip(*times_prices))"
      ]
    },
    {
      "cell_type": "code",
      "execution_count": 2,
      "metadata": {
        "vscode": {
          "languageId": "shellscript"
        }
      },
      "outputs": [
        {
          "name": "stdout",
          "output_type": "stream",
          "text": [
            "/config/workspace/repo/time_series\n"
          ]
        }
      ],
      "source": [
        "cd ~/workspace/repo/time_series/"
      ]
    },
    {
      "cell_type": "code",
      "execution_count": 8,
      "metadata": {
        "vscode": {
          "languageId": "shellscript"
        }
      },
      "outputs": [
        {
          "name": "stdout",
          "output_type": "stream",
          "text": [
            "Traceback (most recent call last):\n",
            "  File \"/config/workspace/repo/time_series/service.py\", line 34, in <module>\n",
            "    invoke_service() # call invoke service method\n",
            "  File \"/config/workspace/repo/time_series/service.py\", line 30, in invoke_service\n",
            "    response = service_client.service.forecast(request) # replace service_method\n",
            "  File \"/config/.local/lib/python3.10/site-packages/grpc/_interceptor.py\", line 277, in __call__\n",
            "    response, ignored_call = self._with_call(\n",
            "  File \"/config/.local/lib/python3.10/site-packages/grpc/_interceptor.py\", line 329, in _with_call\n",
            "    call = self._interceptor.intercept_unary_unary(\n",
            "  File \"/config/.local/lib/python3.10/site-packages/snet/sdk/generic_client_interceptor.py\", line 27, in intercept_unary_unary\n",
            "    new_details, new_request_iterator, postprocess = self._fn(\n",
            "  File \"/config/.local/lib/python3.10/site-packages/snet/sdk/service_client.py\", line 85, in _intercept_call\n",
            "    metadata.extend(self._get_service_call_metadata())\n",
            "  File \"/config/.local/lib/python3.10/site-packages/snet/sdk/service_client.py\", line 77, in _get_service_call_metadata\n",
            "    metadata = self.payment_strategy.get_payment_metadata(self)\n",
            "  File \"/config/.local/lib/python3.10/site-packages/snet/sdk/payment_strategies/default_payment_strategy.py\", line 29, in get_payment_metadata\n",
            "    metadata = payment_strategy.get_payment_metadata(service_client, self.channel)\n",
            "  File \"/config/.local/lib/python3.10/site-packages/snet/sdk/payment_strategies/prepaid_payment_strategy.py\", line 16, in get_payment_metadata\n",
            "    channel = self.select_channel(service_client)\n",
            "  File \"/config/.local/lib/python3.10/site-packages/snet/sdk/payment_strategies/prepaid_payment_strategy.py\", line 43, in select_channel\n",
            "    payment_channel = service_client.deposit_and_open_channel(service_call_price,\n",
            "  File \"/config/.local/lib/python3.10/site-packages/snet/sdk/service_client.py\", line 145, in deposit_and_open_channel\n",
            "    return self.payment_channel_provider.deposit_and_open_channel(self.account, amount, expiration,\n",
            "  File \"/config/.local/lib/python3.10/site-packages/snet/sdk/mpe/payment_channel_provider.py\", line 58, in deposit_and_open_channel\n",
            "    receipt = self.mpe_contract.deposit_and_open_channel(account, payment_address, group_id, amount,\n",
            "  File \"/config/.local/lib/python3.10/site-packages/snet/sdk/mpe/mpe_contract.py\", line 31, in deposit_and_open_channel\n",
            "    account.approve_transfer(amount)\n",
            "  File \"/config/.local/lib/python3.10/site-packages/snet/sdk/account.py\", line 88, in approve_transfer\n",
            "    return self.send_transaction(self.token_contract.functions.approve,self.mpe_contract.contract.address, amount_in_cogs)\n",
            "  File \"/config/.local/lib/python3.10/site-packages/snet/sdk/account.py\", line 69, in send_transaction\n",
            "    txn_hash = self._send_signed_transaction(contract_fn, *args)\n",
            "  File \"/config/.local/lib/python3.10/site-packages/snet/sdk/account.py\", line 66, in _send_signed_transaction\n",
            "    return self.web3.toHex(self.web3.eth.sendRawTransaction(signed_txn.rawTransaction))\n",
            "  File \"/config/.local/lib/python3.10/site-packages/web3/eth.py\", line 272, in sendRawTransaction\n",
            "    return self.web3.manager.request_blocking(\n",
            "  File \"/config/.local/lib/python3.10/site-packages/web3/manager.py\", line 112, in request_blocking\n",
            "    raise ValueError(response[\"error\"])\n",
            "ValueError: {'code': -32000, 'message': 'insufficient funds for gas * price + value: balance 0, tx cost 3421823948100000, overshot 3421823948100000'}\n"
          ]
        }
      ],
      "source": [
        "!python3 service.py"
      ]
    },
    {
      "cell_type": "code",
      "execution_count": 8,
      "metadata": {
        "vscode": {
          "languageId": "shellscript"
        }
      },
      "outputs": [],
      "source": [
        "# WARNING: RUN THIS CELL IFF USING PYTHON>=3.10\n",
        "def findReplace(filename, find, replace):\n",
        "    with open(filename, 'r') as file:\n",
        "        filedata = file.read()\n",
        "    filedata = filedata.replace(find, replace)\n",
        "    with open(filename, 'w') as file:\n",
        "        file.write(filedata)\n",
        "\n",
        "findReplace(\"/config/.local/lib/python3.10/site-packages/attrdict/default.py\", \"from collections import\", \"from collections.abc import\")\n",
        "findReplace(\"/config/.local/lib/python3.10/site-packages/attrdict/mapping.py\", \"from collections import\", \"from collections.abc import\")\n",
        "findReplace(\"/config/.local/lib/python3.10/site-packages/attrdict/merge.py\", \"from collections import\", \"from collections.abc import\")\n",
        "findReplace(\"/config/.local/lib/python3.10/site-packages/attrdict/mixins.py\", \"from collections import\", \"from collections.abc import\")\n",
        "findReplace(\"/config/.local/lib/python3.10/site-packages/eth_account/account.py\", \"from collections import\", \"from collections.abc import\")\n",
        "findReplace(\"/config/.local/lib/python3.10/site-packages/rlp/codec.py\", \"import collections\\n\", \"import collections.abc as collections\\n\")\n",
        "findReplace(\"/config/.local/lib/python3.10/site-packages/rlp/lazy.py\", \"from collections import\", \"from collections.abc import\")\n",
        "findReplace(\"/config/.local/lib/python3.10/site-packages/rlp/sedes/lists.py\", \"from collections import\", \"from collections.abc import\")\n",
        "findReplace(\"/config/.local/lib/python3.10/site-packages/rlp/sedes/raw.py\", \"from collections import\", \"from collections.abc import\")\n",
        "findReplace(\"/config/.local/lib/python3.10/site-packages/rlp/sedes/serializable.py\", \"import collections\\n\", \"import collections\\nimport collections.abc\\n\")\n",
        "findReplace(\"/config/.local/lib/python3.10/site-packages/rlp/sedes/serializable.py\", \"collections.Sequence\", \"collections.abc.Sequence\")\n",
        "findReplace(\"/config/.local/lib/python3.10/site-packages/web3/datastructures.py\", \"from collections import (\\n    Hashable,\\n    Mapping,\\n    MutableMapping,\\n    OrderedDict,\\n    Sequence,\\n)\", \"from collections.abc import (\\n    Hashable,\\n    Mapping,\\n    MutableMapping,\\n    Sequence,\\n)\\nfrom collections import OrderedDict\")\n",
        "findReplace(\"/config/.local/lib/python3.10/site-packages/web3/utils/six/six.py\", \"import collections\\n\", \"import collections.abc as collections\\n\")\n",
        "findReplace(\"/config/.local/lib/python3.10/site-packages/web3/utils/formatters.py\", \"from collections import\", \"from collections.abc import\")"
      ]
    }
  ],
  "metadata": {
    "colab": {
      "authorship_tag": "ABX9TyNNt4H+ASgfmmet3E6OWdwa",
      "include_colab_link": true,
      "provenance": []
    },
    "kernelspec": {
      "display_name": "Python 3",
      "language": "python",
      "name": "python3"
    },
    "language_info": {
      "codemirror_mode": {
        "name": "ipython",
        "version": 3
      },
      "file_extension": ".py",
      "mimetype": "text/x-python",
      "name": "python",
      "nbconvert_exporter": "python",
      "pygments_lexer": "ipython3",
      "version": "3.10.12"
    }
  },
  "nbformat": 4,
  "nbformat_minor": 0
}
